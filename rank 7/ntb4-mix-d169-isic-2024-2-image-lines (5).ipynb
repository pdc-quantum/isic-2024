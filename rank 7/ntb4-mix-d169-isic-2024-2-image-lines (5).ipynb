{
 "cells": [
  {
   "cell_type": "markdown",
   "id": "6f925278",
   "metadata": {
    "papermill": {
     "duration": 0.010354,
     "end_time": "2024-08-31T20:44:47.598579",
     "exception": false,
     "start_time": "2024-08-31T20:44:47.588225",
     "status": "completed"
    },
    "tags": []
   },
   "source": [
    "## This notebook is based on the works:"
   ]
  },
  {
   "cell_type": "markdown",
   "id": "c72b58ec",
   "metadata": {
    "papermill": {
     "duration": 0.009571,
     "end_time": "2024-08-31T20:44:47.618392",
     "exception": false,
     "start_time": "2024-08-31T20:44:47.608821",
     "status": "completed"
    },
    "tags": []
   },
   "source": [
    "1) **[Naive LightGBM](https://www.kaggle.com/code/bguberfain/naive-lightgbm)** by master [*Bruno G. do Amaral*](https://www.kaggle.com/bguberfain)\n",
    "\n",
    "\n",
    "2) **[Tabular Ensemble: LGBM+Catboost](https://www.kaggle.com/code/snnclsr/tabular-ensemble-lgbm-catboost)** by master [*Sinan Calisir*](https://www.kaggle.com/snnclsr)\n",
    "\n",
    "\n",
    "3) **[ISIC 2024 Skin Cancer - Getting Started](https://www.kaggle.com/code/coderinunderpants/isic-2024-skin-cancer-getting-started)** by contributor [*Joy Banikl*](https://www.kaggle.com/coderinunderpants)\n",
    "\n",
    "\n",
    "4) **[ISIC: Tabular model + Image model features](https://www.kaggle.com/code/motono0223/isic-tabular-model-image-model-features)** by master [*motono0223*](https://www.kaggle.com/motono0223)\n",
    "\n",
    "\n",
    "5) **[Only Tabular Features: XGB+CATB+LGBM Ensemble](https://www.kaggle.com/code/rzatemizel/only-tabular-features-xgb-catb-lgbm-ensemble)** by master [*rıza temizel*](https://www.kaggle.com/rzatemizel)\n",
    "\n",
    "\n",
    "6) **[Tabular with Image features](https://www.kaggle.com/code/merfarukelik/tabular-with-image-features)** by contributor [*Ömer faruk çelik*](https://www.kaggle.com/merfarukelik)\n",
    "\n",
    "\n",
    "7) **[Tabular Ensemble: LGBM + Catboost | Add EdgeNext](https://www.kaggle.com/code/hugowjd/tabular-ensemble-lgbm-catboost-add-edgenext)** by expert [*Jiadi Wang*](https://www.kaggle.com/hugowjd)\n",
    "\n",
    "\n",
    "8) **[ISIC 2024 | Only Tabular Data](https://www.kaggle.com/code/greysky/isic-2024-only-tabular-data)** by master [*Farukcan Saglam*](https://www.kaggle.com/greysky)\n",
    "\n",
    "\n",
    "9) **[LGBM - CAT Ensemble --> ISIC](https://www.kaggle.com/code/abdmental01/lgbm-cat-ensemble-isic)** by grandmaster [*Sheikh Muhammad Abdullah*](https://www.kaggle.com/abdmental01)\n",
    "\n",
    "\n",
    "10) **[ISIC - Detect Skin Cancer - Let's Learn Together](https://www.kaggle.com/code/dschettler8845/isic-detect-skin-cancer-let-s-learn-together)** by grandmaster [*Darien Schettler*](https://www.kaggle.com/dschettler8845)\n",
    "\n",
    "\n",
    "11) **[ISIC 2024 Skin Cancer Detection hdf5](https://www.kaggle.com/code/mpwolke/isic-2024-skin-cancer-detection-hdf5)** by grandmaster [*Marília Prata*](https://www.kaggle.com/mpwolke)\n",
    "\n",
    "\n",
    "12) **[AI in Dermoscopy. ADAE algorithm.](https://www.kaggle.com/competitions/isic-2024-challenge/discussion/515369)** by grandmaster [*Marília Prata*](https://www.kaggle.com/mpwolke)\n"
   ]
  },
  {
   "cell_type": "markdown",
   "id": "cc4b5783",
   "metadata": {
    "papermill": {
     "duration": 0.009549,
     "end_time": "2024-08-31T20:44:47.637884",
     "exception": false,
     "start_time": "2024-08-31T20:44:47.628335",
     "status": "completed"
    },
    "tags": []
   },
   "source": [
    "## Mixing with a Densenet 169 image model\n",
    "- The principle is to combine a new model, consisting of images otherwise curated, to a project already well performing. The mix parameters are obtained using scipy minimize. \n",
    "​\n",
    "- The present version uses densenet 169 for the added model; The training of the added model was done on Colab (notebook: https://colab.research.google.com/drive/17rXBYjlaqghSs1QY6e9YqOgy1xjYLntQ?usp=drive_link\n",
    "- \"powell\" is the minimizing method and linear-correl-quadratic is the formula.\n",
    "- the training dataset is made of entries from the 20218, 2019, 2020 and 2024 datasets. \n",
    "- The train dataset has the 2024-original replicated 14 times and the past minority is not replicated. \n",
    "- The majority (negative cases) is 2 times greater than the minority and includes only cases from 2024.\n",
    "- The best weights are obtained for epoch 9/10 which had the better AUC and lowest train loss\n"
   ]
  },
  {
   "cell_type": "code",
   "execution_count": 1,
   "id": "57c3ee77",
   "metadata": {
    "execution": {
     "iopub.execute_input": "2024-08-31T20:44:47.659296Z",
     "iopub.status.busy": "2024-08-31T20:44:47.658983Z",
     "iopub.status.idle": "2024-08-31T20:45:23.467208Z",
     "shell.execute_reply": "2024-08-31T20:45:23.466348Z"
    },
    "papermill": {
     "duration": 35.822292,
     "end_time": "2024-08-31T20:45:23.469847",
     "exception": false,
     "start_time": "2024-08-31T20:44:47.647555",
     "status": "completed"
    },
    "tags": []
   },
   "outputs": [
    {
     "name": "stdout",
     "output_type": "stream",
     "text": [
      "pAUC mix1 0.19777298914355942\n",
      "pAUC mix2 0.1998744012339048\n",
      "Optimization terminated successfully.\n",
      "         Current function value: -0.199939\n",
      "         Iterations: 2\n",
      "         Function evaluations: 297\n",
      "-0.19993940115153558\n",
      "[ 2.58719072e+00  1.15134768e+02 -2.51230093e-02  3.55318797e-11\n",
      " -7.67142351e-02]\n"
     ]
    }
   ],
   "source": [
    "#for mix formula\n",
    "import numpy as np\n",
    "import pandas as pd\n",
    "\n",
    "from scipy.optimize import minimize\n",
    "from sklearn.metrics import precision_recall_fscore_support, accuracy_score\n",
    "from sklearn.metrics import classification_report, confusion_matrix, ConfusionMatrixDisplay\n",
    "from sklearn.metrics import roc_curve, roc_auc_score, precision_recall_curve, average_precision_score, auc\n",
    "\n",
    "df_my_mix_tabular= pd.read_csv(\"/kaggle/input/predictions-of-2024-dataset/predictions_of_2024_dataset_notebook4.csv\") # this is the correct one\n",
    "df_my_mix_tabular.rename(columns={'target': 'preds'}, inplace=True)\n",
    "df_my_mix_tabular['target'] = 0 #dummy\n",
    "df_my_mix_image= pd.read_csv(\"/kaggle/input/rep14-output-zinneke-picture-train/rep14-output-zinneke-picture-train-d169/df_2024_after prediction.csv\")\n",
    "\n",
    "def pAUC_aboveTPR(y_score, y_true, max_fpr):\n",
    "\n",
    "    # using sklearn.metric functions: (1) roc_curve and (2) auc\n",
    "    fpr, tpr, _ = roc_curve(y_true, y_score, sample_weight=None)\n",
    "    if max_fpr is None or max_fpr == 1:\n",
    "        return auc(fpr, tpr)\n",
    "    if max_fpr <= 0 or max_fpr > 1:\n",
    "        raise ValueError(\"Expected min_tpr in range [0, 1), got: %r\" % min_tpr)\n",
    "    # Add a single point at max_fpr by linear interpolation\n",
    "    stop = np.searchsorted(fpr, max_fpr, \"right\")\n",
    "    x_interp = [fpr[stop - 1], fpr[stop]]\n",
    "    y_interp = [tpr[stop - 1], tpr[stop]]\n",
    "    tpr = np.append(tpr[:stop], np.interp(max_fpr, x_interp, y_interp))\n",
    "    fpr = np.append(fpr[:stop], max_fpr)\n",
    "    #print(tpr, fpr)\n",
    "    partial_auc = auc(fpr, tpr)\n",
    "    #print(\"partial_auc_scaled\", partial_auc, \"\\n\")\n",
    "    #plt.plot(fpr,tpr,label=name + \", pAUC-aboveTPR =\" + str(partial_auc))\n",
    "    #plt.legend()\n",
    "    #plt.show()\n",
    "    return partial_auc\n",
    "\n",
    "min_tpr = 0.80\n",
    "max_fpr = abs(1-min_tpr)\n",
    "merged_train = pd.merge(df_my_mix_tabular, df_my_mix_image,\n",
    "                                               on = 'isic_id')\n",
    "formula_dic = {\"linear\":2, \"linear-intercept\":3, \"linear-correl\":3, \"linear-correl-intercept\":4,\n",
    "                \"linear-quadratic\": 4, \"linear-quadratic-intercept\":5, \"linear-correl-quadratic\":5,\n",
    "                \"linear-correl-quadratic-intercept\": 6}\n",
    "\n",
    "def predict_formula(x0, y1, y2, formula):\n",
    "  if formula == \"linear\" :\n",
    "    y = x0[0]*y1 + x0[1]*y2\n",
    "  elif formula == \"linear-intercept\" :\n",
    "    y = x0[0]*y1 + x0[1]*y2 + x0[2]\n",
    "  elif formula == \"linear-correl\" :\n",
    "    y = x0[0]*y1 + x0[1]*y2 + x0[2]*y1*y2\n",
    "  elif formula == \"linear-correl-intercept\":\n",
    "    y = x0[0]*y1 + x0[1]*y2 + x0[2]*y1*y2 + x0[3]\n",
    "  elif formula == \"linear-quadratic\" :\n",
    "    y = x0[0]*y1+x0[1]*y2+x0[2]*y1*y1+x0[3]*y2*y2\n",
    "  elif formula == \"linear-quadratic-intercept\" :\n",
    "    y = x0[0]*y1+x0[1]*y2+x0[2]*y1*y1+x0[3]*y2*y2+ x0[4]\n",
    "  elif formula == \"linear-correl-quadratic\" :\n",
    "    y = x0[0]*y1+x0[1]*y2+x0[2]*y1*y2+x0[3]*y1*y1+x0[4]*y2*y2\n",
    "  elif formula == \"linear-correl-quadratic-intercept\" :\n",
    "    y = x0[0]*y1+x0[1]*y2+x0[2]*y1*y2+x0[3]*y1*y1+x0[4]*y2*y2 + x0[5]\n",
    "\n",
    "  return y\n",
    "\n",
    "def fun(x0, y1, y2, y_true, max_fpr, formula = \"linear\"):\n",
    "  y =  predict_formula(x0, y1, y2, formula)\n",
    "  pauc =  pAUC_aboveTPR(y, y_true, max_fpr)\n",
    "  return - pauc\n",
    "\n",
    "print(\"pAUC mix1\", pAUC_aboveTPR(merged_train[\"preds_x\"],merged_train[\"target_y\"], max_fpr))\n",
    "\n",
    "print(\"pAUC mix2\",pAUC_aboveTPR(merged_train[\"preds_y\"],merged_train[\"target_y\"], max_fpr))\n",
    "\n",
    "# specific to the model mix;, determined on Colab notebook\n",
    "\n",
    "formula_name = \"linear-correl-quadratic\" # standard option\n",
    "method = \"powell\" # standard option\n",
    "\n",
    "res = minimize(fun, formula_dic[formula_name]*[0],\n",
    "                args = (merged_train[\"preds_x\"],\n",
    "                        merged_train[\"preds_y\"],\n",
    "                        merged_train[\"target_y\"], max_fpr,\n",
    "                        formula_name),\n",
    "               options={'disp': True},\n",
    "               method= method,\n",
    "                      )\n",
    "print(res.fun)  # minimum\n",
    "print(res.x)  # minimizer\n",
    "\n",
    "merged_train[\"preds\"] = predict_formula(res.x, merged_train[\"preds_x\"],\n",
    "                        merged_train[\"preds_y\"], formula=formula_name)\n",
    "merged_train.sort_values(by=['isic_id']).head(3)\n",
    "\n",
    "hybrid_train = merged_train[['isic_id', 'target_y', 'preds']].copy()\n",
    "hybrid_train.rename(columns={'target_y': 'target'}, inplace=True)\n",
    "hybrid_train.sort_values(by=['isic_id']).head(3)\n",
    "\n",
    "# normalization\n",
    "hybrid_train['preds'] = (hybrid_train['preds'] - hybrid_train['preds'].min()) / \\\n",
    "                        (hybrid_train['preds'].max() - hybrid_train['preds'].min())\n"
   ]
  },
  {
   "cell_type": "code",
   "execution_count": 2,
   "id": "02c72f73",
   "metadata": {
    "execution": {
     "iopub.execute_input": "2024-08-31T20:45:23.491931Z",
     "iopub.status.busy": "2024-08-31T20:45:23.491656Z",
     "iopub.status.idle": "2024-08-31T20:45:32.083923Z",
     "shell.execute_reply": "2024-08-31T20:45:32.083145Z"
    },
    "papermill": {
     "duration": 8.605928,
     "end_time": "2024-08-31T20:45:32.086443",
     "exception": false,
     "start_time": "2024-08-31T20:45:23.480515",
     "status": "completed"
    },
    "tags": []
   },
   "outputs": [],
   "source": [
    "# import for image model prediction\n",
    "import os\n",
    "import gc\n",
    "import cv2\n",
    "import math\n",
    "import copy\n",
    "import time\n",
    "import random\n",
    "import glob\n",
    "from pathlib import Path\n",
    "import h5py\n",
    "from PIL import Image\n",
    "from io import BytesIO\n",
    "\n",
    "# Pytorch Imports\n",
    "import torch\n",
    "import torch.nn as nn\n",
    "import torch.optim as optim\n",
    "import torch.nn.functional as F\n",
    "from torch.optim import lr_scheduler\n",
    "from torch.utils.data import Dataset, DataLoader\n",
    "from torch.cuda import amp\n",
    "import torchvision\n",
    "#from torcheval.metrics.functional import binary_auroc\n",
    "\n",
    "# Utils\n",
    "import joblib\n",
    "from tqdm import tqdm\n",
    "from collections import defaultdict\n",
    "\n",
    "# Sklearn Imports\n",
    "from sklearn.preprocessing import LabelEncoder\n",
    "from sklearn.model_selection import StratifiedKFold, StratifiedGroupKFold, train_test_split\n",
    "from sklearn.metrics import auc, roc_curve\n",
    "\n",
    "# For Image Models\n",
    "import timm\n",
    "\n",
    "# Albumentations for augmentations\n",
    "import albumentations as A\n",
    "from albumentations.pytorch import ToTensorV2\n",
    "\n",
    "# For colored terminal text\n",
    "# from colorama import Fore, Back, Style\n",
    "# b_ = Fore.BLUE\n",
    "# sr_ = Style.RESET_ALL\n",
    "\n",
    "import warnings\n",
    "warnings.filterwarnings(\"ignore\")\n",
    "\n",
    "# For descriptive error messages\n",
    "os.environ['CUDA_LAUNCH_BLOCKING'] = \"1\"\n",
    "\n",
    "# Plot package\n",
    "import PIL\n",
    "\n",
    "from matplotlib import pyplot as plt"
   ]
  },
  {
   "cell_type": "code",
   "execution_count": 3,
   "id": "56668d9c",
   "metadata": {
    "execution": {
     "iopub.execute_input": "2024-08-31T20:45:32.110331Z",
     "iopub.status.busy": "2024-08-31T20:45:32.109836Z",
     "iopub.status.idle": "2024-08-31T20:45:32.203885Z",
     "shell.execute_reply": "2024-08-31T20:45:32.202991Z"
    },
    "papermill": {
     "duration": 0.107606,
     "end_time": "2024-08-31T20:45:32.205913",
     "exception": false,
     "start_time": "2024-08-31T20:45:32.098307",
     "status": "completed"
    },
    "tags": []
   },
   "outputs": [],
   "source": [
    "# for remembering the setting of the training phase #\n",
    "#(not obligatory the setting of the training notebook)\n",
    "CONFIG = {\n",
    "    \"seed\": 42,\n",
    "    \"epochs\": 10,\n",
    "    \"img_size\": 224, # for b0 # 288, # was 384,\n",
    "    #\"model_name\": \"tf_efficientnet_b3_ns\",\n",
    "    \"model_name\": \"densenet169.tv_in1k\",\n",
    "    #\"checkpoint_path\" : \"/kaggle/input/tf-efficientnet/pytorch/tf-efficientnet-b3/1/tf_efficientnet_b3_aa-84b4657e.pth\",\n",
    "    #\"checkpoint_path\" : \"/kaggle/input/pdc_efficientnet/pytorch/default/1/tf_efficientnet_b0_aa-827b6e33.pth\",\n",
    "    \"train_batch_size\": 32,\n",
    "    \"valid_batch_size\": 64,\n",
    "    \"learning_rate\": 5e-5,\n",
    "    \"scheduler\": 'CosineAnnealingLR',\n",
    "    \"min_lr\": 5e-7,\n",
    "    \"T_max\": 500,\n",
    "    \"weight_decay\": 1e-6,\n",
    "    \"fold\" : 0,\n",
    "    \"n_fold\": 5,\n",
    "    \"n_accumulate\": 1,\n",
    "    \"replicate_pos\" : 14,\n",
    "    \"target_ratio\" : 2,\n",
    "    \"device\": torch.device(\"cuda:0\" if torch.cuda.is_available() else \"cpu\"),\n",
    "}"
   ]
  },
  {
   "cell_type": "code",
   "execution_count": 4,
   "id": "4ef866fa",
   "metadata": {
    "execution": {
     "iopub.execute_input": "2024-08-31T20:45:32.227254Z",
     "iopub.status.busy": "2024-08-31T20:45:32.226942Z",
     "iopub.status.idle": "2024-08-31T20:45:32.233253Z",
     "shell.execute_reply": "2024-08-31T20:45:32.232357Z"
    },
    "papermill": {
     "duration": 0.019079,
     "end_time": "2024-08-31T20:45:32.235243",
     "exception": false,
     "start_time": "2024-08-31T20:45:32.216164",
     "status": "completed"
    },
    "tags": []
   },
   "outputs": [
    {
     "data": {
      "text/plain": [
       "device(type='cuda', index=0)"
      ]
     },
     "execution_count": 4,
     "metadata": {},
     "output_type": "execute_result"
    }
   ],
   "source": [
    "CONFIG['device']"
   ]
  },
  {
   "cell_type": "code",
   "execution_count": 5,
   "id": "c155be5f",
   "metadata": {
    "execution": {
     "iopub.execute_input": "2024-08-31T20:45:32.257158Z",
     "iopub.status.busy": "2024-08-31T20:45:32.256881Z",
     "iopub.status.idle": "2024-08-31T20:45:35.842678Z",
     "shell.execute_reply": "2024-08-31T20:45:35.841617Z"
    },
    "papermill": {
     "duration": 3.599403,
     "end_time": "2024-08-31T20:45:35.845124",
     "exception": false,
     "start_time": "2024-08-31T20:45:32.245721",
     "status": "completed"
    },
    "tags": []
   },
   "outputs": [
    {
     "name": "stdout",
     "output_type": "stream",
     "text": [
      "Seeding done ...\n"
     ]
    },
    {
     "data": {
      "text/html": [
       "<div>\n",
       "<style scoped>\n",
       "    .dataframe tbody tr th:only-of-type {\n",
       "        vertical-align: middle;\n",
       "    }\n",
       "\n",
       "    .dataframe tbody tr th {\n",
       "        vertical-align: top;\n",
       "    }\n",
       "\n",
       "    .dataframe thead th {\n",
       "        text-align: right;\n",
       "    }\n",
       "</style>\n",
       "<table border=\"1\" class=\"dataframe\">\n",
       "  <thead>\n",
       "    <tr style=\"text-align: right;\">\n",
       "      <th></th>\n",
       "      <th>isic_id</th>\n",
       "      <th>patient_id</th>\n",
       "      <th>age_approx</th>\n",
       "      <th>sex</th>\n",
       "      <th>anatom_site_general</th>\n",
       "      <th>clin_size_long_diam_mm</th>\n",
       "      <th>image_type</th>\n",
       "      <th>tbp_tile_type</th>\n",
       "      <th>tbp_lv_A</th>\n",
       "      <th>tbp_lv_Aext</th>\n",
       "      <th>...</th>\n",
       "      <th>tbp_lv_stdL</th>\n",
       "      <th>tbp_lv_stdLExt</th>\n",
       "      <th>tbp_lv_symm_2axis</th>\n",
       "      <th>tbp_lv_symm_2axis_angle</th>\n",
       "      <th>tbp_lv_x</th>\n",
       "      <th>tbp_lv_y</th>\n",
       "      <th>tbp_lv_z</th>\n",
       "      <th>attribution</th>\n",
       "      <th>copyright_license</th>\n",
       "      <th>target</th>\n",
       "    </tr>\n",
       "  </thead>\n",
       "  <tbody>\n",
       "    <tr>\n",
       "      <th>0</th>\n",
       "      <td>ISIC_0015657</td>\n",
       "      <td>IP_6074337</td>\n",
       "      <td>45.0</td>\n",
       "      <td>male</td>\n",
       "      <td>posterior torso</td>\n",
       "      <td>2.70</td>\n",
       "      <td>TBP tile: close-up</td>\n",
       "      <td>3D: XP</td>\n",
       "      <td>22.80433</td>\n",
       "      <td>20.007270</td>\n",
       "      <td>...</td>\n",
       "      <td>1.281532</td>\n",
       "      <td>2.299935</td>\n",
       "      <td>0.479339</td>\n",
       "      <td>20</td>\n",
       "      <td>-155.06510</td>\n",
       "      <td>1511.222000</td>\n",
       "      <td>113.980100</td>\n",
       "      <td>Memorial Sloan Kettering Cancer Center</td>\n",
       "      <td>CC-BY</td>\n",
       "      <td>0</td>\n",
       "    </tr>\n",
       "    <tr>\n",
       "      <th>1</th>\n",
       "      <td>ISIC_0015729</td>\n",
       "      <td>IP_1664139</td>\n",
       "      <td>35.0</td>\n",
       "      <td>female</td>\n",
       "      <td>lower extremity</td>\n",
       "      <td>2.52</td>\n",
       "      <td>TBP tile: close-up</td>\n",
       "      <td>3D: XP</td>\n",
       "      <td>16.64867</td>\n",
       "      <td>9.657964</td>\n",
       "      <td>...</td>\n",
       "      <td>1.271940</td>\n",
       "      <td>2.011223</td>\n",
       "      <td>0.426230</td>\n",
       "      <td>25</td>\n",
       "      <td>-112.36924</td>\n",
       "      <td>629.535889</td>\n",
       "      <td>-15.019287</td>\n",
       "      <td>Frazer Institute, The University of Queensland...</td>\n",
       "      <td>CC-BY</td>\n",
       "      <td>0</td>\n",
       "    </tr>\n",
       "    <tr>\n",
       "      <th>2</th>\n",
       "      <td>ISIC_0015740</td>\n",
       "      <td>IP_7142616</td>\n",
       "      <td>65.0</td>\n",
       "      <td>male</td>\n",
       "      <td>posterior torso</td>\n",
       "      <td>3.16</td>\n",
       "      <td>TBP tile: close-up</td>\n",
       "      <td>3D: XP</td>\n",
       "      <td>24.25384</td>\n",
       "      <td>19.937380</td>\n",
       "      <td>...</td>\n",
       "      <td>1.080308</td>\n",
       "      <td>2.705857</td>\n",
       "      <td>0.366071</td>\n",
       "      <td>110</td>\n",
       "      <td>-84.29282</td>\n",
       "      <td>1303.978000</td>\n",
       "      <td>-28.576050</td>\n",
       "      <td>FNQH Cairns</td>\n",
       "      <td>CC-BY</td>\n",
       "      <td>0</td>\n",
       "    </tr>\n",
       "  </tbody>\n",
       "</table>\n",
       "<p>3 rows × 45 columns</p>\n",
       "</div>"
      ],
      "text/plain": [
       "        isic_id  patient_id  age_approx     sex anatom_site_general  \\\n",
       "0  ISIC_0015657  IP_6074337        45.0    male     posterior torso   \n",
       "1  ISIC_0015729  IP_1664139        35.0  female     lower extremity   \n",
       "2  ISIC_0015740  IP_7142616        65.0    male     posterior torso   \n",
       "\n",
       "   clin_size_long_diam_mm          image_type tbp_tile_type  tbp_lv_A  \\\n",
       "0                    2.70  TBP tile: close-up        3D: XP  22.80433   \n",
       "1                    2.52  TBP tile: close-up        3D: XP  16.64867   \n",
       "2                    3.16  TBP tile: close-up        3D: XP  24.25384   \n",
       "\n",
       "   tbp_lv_Aext  ...  tbp_lv_stdL  tbp_lv_stdLExt  tbp_lv_symm_2axis  \\\n",
       "0    20.007270  ...     1.281532        2.299935           0.479339   \n",
       "1     9.657964  ...     1.271940        2.011223           0.426230   \n",
       "2    19.937380  ...     1.080308        2.705857           0.366071   \n",
       "\n",
       "   tbp_lv_symm_2axis_angle   tbp_lv_x     tbp_lv_y    tbp_lv_z  \\\n",
       "0                       20 -155.06510  1511.222000  113.980100   \n",
       "1                       25 -112.36924   629.535889  -15.019287   \n",
       "2                      110  -84.29282  1303.978000  -28.576050   \n",
       "\n",
       "                                         attribution  copyright_license  \\\n",
       "0             Memorial Sloan Kettering Cancer Center              CC-BY   \n",
       "1  Frazer Institute, The University of Queensland...              CC-BY   \n",
       "2                                        FNQH Cairns              CC-BY   \n",
       "\n",
       "   target  \n",
       "0       0  \n",
       "1       0  \n",
       "2       0  \n",
       "\n",
       "[3 rows x 45 columns]"
      ]
     },
     "metadata": {},
     "output_type": "display_data"
    },
    {
     "name": "stderr",
     "output_type": "stream",
     "text": [
      "100%|██████████| 1/1 [00:02<00:00,  2.05s/it]\n"
     ]
    },
    {
     "data": {
      "text/html": [
       "<div>\n",
       "<style scoped>\n",
       "    .dataframe tbody tr th:only-of-type {\n",
       "        vertical-align: middle;\n",
       "    }\n",
       "\n",
       "    .dataframe tbody tr th {\n",
       "        vertical-align: top;\n",
       "    }\n",
       "\n",
       "    .dataframe thead th {\n",
       "        text-align: right;\n",
       "    }\n",
       "</style>\n",
       "<table border=\"1\" class=\"dataframe\">\n",
       "  <thead>\n",
       "    <tr style=\"text-align: right;\">\n",
       "      <th></th>\n",
       "      <th>isic_id</th>\n",
       "      <th>patient_id</th>\n",
       "      <th>age_approx</th>\n",
       "      <th>sex</th>\n",
       "      <th>anatom_site_general</th>\n",
       "      <th>clin_size_long_diam_mm</th>\n",
       "      <th>image_type</th>\n",
       "      <th>tbp_tile_type</th>\n",
       "      <th>tbp_lv_A</th>\n",
       "      <th>tbp_lv_Aext</th>\n",
       "      <th>...</th>\n",
       "      <th>tbp_lv_stdLExt</th>\n",
       "      <th>tbp_lv_symm_2axis</th>\n",
       "      <th>tbp_lv_symm_2axis_angle</th>\n",
       "      <th>tbp_lv_x</th>\n",
       "      <th>tbp_lv_y</th>\n",
       "      <th>tbp_lv_z</th>\n",
       "      <th>attribution</th>\n",
       "      <th>copyright_license</th>\n",
       "      <th>target</th>\n",
       "      <th>preds</th>\n",
       "    </tr>\n",
       "  </thead>\n",
       "  <tbody>\n",
       "    <tr>\n",
       "      <th>0</th>\n",
       "      <td>ISIC_0015657</td>\n",
       "      <td>IP_6074337</td>\n",
       "      <td>45.0</td>\n",
       "      <td>male</td>\n",
       "      <td>posterior torso</td>\n",
       "      <td>2.70</td>\n",
       "      <td>TBP tile: close-up</td>\n",
       "      <td>3D: XP</td>\n",
       "      <td>22.80433</td>\n",
       "      <td>20.007270</td>\n",
       "      <td>...</td>\n",
       "      <td>2.299935</td>\n",
       "      <td>0.479339</td>\n",
       "      <td>20</td>\n",
       "      <td>-155.06510</td>\n",
       "      <td>1511.222000</td>\n",
       "      <td>113.980100</td>\n",
       "      <td>Memorial Sloan Kettering Cancer Center</td>\n",
       "      <td>CC-BY</td>\n",
       "      <td>0</td>\n",
       "      <td>9.817772e-09</td>\n",
       "    </tr>\n",
       "    <tr>\n",
       "      <th>1</th>\n",
       "      <td>ISIC_0015729</td>\n",
       "      <td>IP_1664139</td>\n",
       "      <td>35.0</td>\n",
       "      <td>female</td>\n",
       "      <td>lower extremity</td>\n",
       "      <td>2.52</td>\n",
       "      <td>TBP tile: close-up</td>\n",
       "      <td>3D: XP</td>\n",
       "      <td>16.64867</td>\n",
       "      <td>9.657964</td>\n",
       "      <td>...</td>\n",
       "      <td>2.011223</td>\n",
       "      <td>0.426230</td>\n",
       "      <td>25</td>\n",
       "      <td>-112.36924</td>\n",
       "      <td>629.535889</td>\n",
       "      <td>-15.019287</td>\n",
       "      <td>Frazer Institute, The University of Queensland...</td>\n",
       "      <td>CC-BY</td>\n",
       "      <td>0</td>\n",
       "      <td>3.748532e-06</td>\n",
       "    </tr>\n",
       "    <tr>\n",
       "      <th>2</th>\n",
       "      <td>ISIC_0015740</td>\n",
       "      <td>IP_7142616</td>\n",
       "      <td>65.0</td>\n",
       "      <td>male</td>\n",
       "      <td>posterior torso</td>\n",
       "      <td>3.16</td>\n",
       "      <td>TBP tile: close-up</td>\n",
       "      <td>3D: XP</td>\n",
       "      <td>24.25384</td>\n",
       "      <td>19.937380</td>\n",
       "      <td>...</td>\n",
       "      <td>2.705857</td>\n",
       "      <td>0.366071</td>\n",
       "      <td>110</td>\n",
       "      <td>-84.29282</td>\n",
       "      <td>1303.978000</td>\n",
       "      <td>-28.576050</td>\n",
       "      <td>FNQH Cairns</td>\n",
       "      <td>CC-BY</td>\n",
       "      <td>0</td>\n",
       "      <td>1.669658e-04</td>\n",
       "    </tr>\n",
       "  </tbody>\n",
       "</table>\n",
       "<p>3 rows × 46 columns</p>\n",
       "</div>"
      ],
      "text/plain": [
       "        isic_id  patient_id  age_approx     sex anatom_site_general  \\\n",
       "0  ISIC_0015657  IP_6074337        45.0    male     posterior torso   \n",
       "1  ISIC_0015729  IP_1664139        35.0  female     lower extremity   \n",
       "2  ISIC_0015740  IP_7142616        65.0    male     posterior torso   \n",
       "\n",
       "   clin_size_long_diam_mm          image_type tbp_tile_type  tbp_lv_A  \\\n",
       "0                    2.70  TBP tile: close-up        3D: XP  22.80433   \n",
       "1                    2.52  TBP tile: close-up        3D: XP  16.64867   \n",
       "2                    3.16  TBP tile: close-up        3D: XP  24.25384   \n",
       "\n",
       "   tbp_lv_Aext  ...  tbp_lv_stdLExt  tbp_lv_symm_2axis  \\\n",
       "0    20.007270  ...        2.299935           0.479339   \n",
       "1     9.657964  ...        2.011223           0.426230   \n",
       "2    19.937380  ...        2.705857           0.366071   \n",
       "\n",
       "   tbp_lv_symm_2axis_angle   tbp_lv_x     tbp_lv_y    tbp_lv_z  \\\n",
       "0                       20 -155.06510  1511.222000  113.980100   \n",
       "1                       25 -112.36924   629.535889  -15.019287   \n",
       "2                      110  -84.29282  1303.978000  -28.576050   \n",
       "\n",
       "                                         attribution  copyright_license  \\\n",
       "0             Memorial Sloan Kettering Cancer Center              CC-BY   \n",
       "1  Frazer Institute, The University of Queensland...              CC-BY   \n",
       "2                                        FNQH Cairns              CC-BY   \n",
       "\n",
       "   target         preds  \n",
       "0       0  9.817772e-09  \n",
       "1       0  3.748532e-06  \n",
       "2       0  1.669658e-04  \n",
       "\n",
       "[3 rows x 46 columns]"
      ]
     },
     "metadata": {},
     "output_type": "display_data"
    }
   ],
   "source": [
    "def set_seed(seed=42):\n",
    "    '''Sets the seed of the entire notebook so results are the same every time we run.\n",
    "    This is for REPRODUCIBILITY.'''\n",
    "    np.random.seed(seed)\n",
    "    if torch.cuda.is_available():\n",
    "        torch.cuda.manual_seed(seed)\n",
    "        torch.cuda.manual_seed_all(seed)\n",
    "        torch.backends.cudnn.deterministic = False\n",
    "        torch.backends.cudnn.benchmark = True\n",
    "    os.environ['PYTHONHASHSEED'] = str(seed)\n",
    "    print(f\"Seeding done ...\")\n",
    "\n",
    "def flush():\n",
    "    gc.collect()\n",
    "    if torch.cuda.is_available():\n",
    "        torch.cuda.empty_cache()\n",
    "        torch.cuda.reset_peak_memory_stats()\n",
    "set_seed(CONFIG['seed'])\n",
    "\n",
    "ROOT_DIR = \"/kaggle/input/isic-2024-challenge\"\n",
    "TRAIN_DIR = f'{ROOT_DIR}/train-image/image'\n",
    "TEST_DIR = f'{ROOT_DIR}/test-image.hdf5/image'\n",
    "\n",
    "TEST_CSV = f'{ROOT_DIR}/test-metadata.csv'\n",
    "TEST_HDF = f'{ROOT_DIR}/test-image.hdf5'\n",
    "SAMPLE = f'{ROOT_DIR}/sample_submission.csv'\n",
    "\n",
    "class GeM(nn.Module):\n",
    "    def __init__(self, p=3, eps=1e-6):\n",
    "        super(GeM, self).__init__()\n",
    "        self.p = nn.Parameter(torch.ones(1)*p)\n",
    "        self.eps = eps\n",
    "\n",
    "    def forward(self, x):\n",
    "        return self.gem(x, p=self.p, eps=self.eps)\n",
    "\n",
    "    def gem(self, x, p=3, eps=1e-6):\n",
    "        return F.avg_pool2d(x.clamp(min=eps).pow(p), (x.size(-2), x.size(-1))).pow(1./p)\n",
    "\n",
    "    def __repr__(self):\n",
    "        return self.__class__.__name__ + \\\n",
    "                '(' + 'p=' + '{:.4f}'.format(self.p.data.tolist()[0]) + \\\n",
    "                ', ' + 'eps=' + str(self.eps) + ')'\n",
    "\n",
    "class ISICModel(nn.Module):\n",
    "    def __init__(self, model_name, num_classes=1, pretrained=True, checkpoint_path=None):\n",
    "        super(ISICModel, self).__init__()\n",
    "        self.model = timm.create_model(model_name, pretrained=pretrained, checkpoint_path=checkpoint_path)\n",
    "        #self.model = timm.create_model(model_name, pretrained=pretrained)\n",
    "        #self.model = torchvision.models.efficientnet_b0(weights = 'DEFAULT')\n",
    "        #print(self.model)\n",
    "        in_features = self.model.classifier.in_features\n",
    "        self.model.classifier = nn.Identity()\n",
    "        self.model.global_pool = nn.Identity()\n",
    "        self.pooling = GeM()\n",
    "        self.linear = nn.Linear(in_features, num_classes)\n",
    "        self.sigmoid = nn.Sigmoid()\n",
    "\n",
    "    def forward(self, images):\n",
    "        features = self.model(images)\n",
    "        pooled_features = self.pooling(features).flatten(1)\n",
    "        output = self.sigmoid(self.linear(pooled_features))\n",
    "        return output\n",
    "\n",
    "torch.cuda.empty_cache()\n",
    "model = torch.load(\"/kaggle/input/rep14-output-zinneke-picture-train/rep14-output-zinneke-picture-train-d169/zinneke_picture.pt\")\n",
    "\n",
    "### Read the data\n",
    "class ISICDataset_for_Test(Dataset):\n",
    "    def __init__(self, df, file_hdf, transforms=None):\n",
    "        self.df = df\n",
    "        self.fp_hdf = h5py.File(file_hdf, mode=\"r\")\n",
    "        self.isic_ids = df['isic_id'].values\n",
    "        self.targets = df['target'].values\n",
    "        self.transforms = transforms\n",
    "\n",
    "    def __len__(self):\n",
    "        return len(self.isic_ids)\n",
    "\n",
    "    def __getitem__(self, index):\n",
    "        isic_id = self.isic_ids[index]\n",
    "        img = np.array( Image.open(BytesIO(self.fp_hdf[isic_id][()])) )\n",
    "        target = self.targets[index]\n",
    "\n",
    "        if self.transforms:\n",
    "            img = self.transforms(image=img)[\"image\"]\n",
    "\n",
    "        return {\n",
    "            'image': img,\n",
    "            'target': target,\n",
    "        }\n",
    "# Load submission data\n",
    "subm_data = pd.read_csv(TEST_CSV)\n",
    "subm_data['target'] = 0 # dummy\n",
    "display(subm_data.head())\n",
    "\n",
    "data_transforms = {\n",
    "    \"train\": A.Compose([\n",
    "        A.Resize(CONFIG['img_size'], CONFIG['img_size']),\n",
    "        A.RandomRotate90(p=0.5),\n",
    "        A.Flip(p=0.5),\n",
    "        A.Downscale(p=0.25),\n",
    "        A.ShiftScaleRotate(shift_limit=0.1,\n",
    "                           scale_limit=0.15,\n",
    "                           rotate_limit=60,\n",
    "                           p=0.5),\n",
    "        A.HueSaturationValue(\n",
    "                hue_shift_limit=0.2,\n",
    "                sat_shift_limit=0.2,\n",
    "                val_shift_limit=0.2,\n",
    "                p=0.5\n",
    "            ),\n",
    "        A.RandomBrightnessContrast(\n",
    "                brightness_limit=(-0.1,0.1),\n",
    "                contrast_limit=(-0.1, 0.1),\n",
    "                p=0.5\n",
    "            ),\n",
    "        A.Normalize(\n",
    "                mean=[0.485, 0.456, 0.406],\n",
    "                std=[0.229, 0.224, 0.225],\n",
    "                max_pixel_value=255.0,\n",
    "                p=1.0\n",
    "            ),\n",
    "        ToTensorV2()], p=1.),\n",
    "    \n",
    "    \"valid\": A.Compose([\n",
    "        A.Resize(CONFIG['img_size'], CONFIG['img_size']),\n",
    "        A.Normalize(\n",
    "                mean=[0.485, 0.456, 0.406],\n",
    "                std=[0.229, 0.224, 0.225],\n",
    "                max_pixel_value=255.0,\n",
    "                p=1.0\n",
    "            ),\n",
    "        ToTensorV2()], p=1.)\n",
    "}\n",
    "\n",
    "### Start inference\n",
    "\n",
    "test_post_dataset = ISICDataset_for_Test(subm_data, TEST_HDF, transforms=data_transforms[\"valid\"])\n",
    "test_post_loader = DataLoader(test_post_dataset, batch_size=CONFIG['valid_batch_size'],\n",
    "                          num_workers=2, shuffle=False, pin_memory=True)\n",
    "preds_test = []\n",
    "with torch.no_grad():\n",
    "    bar = tqdm(enumerate(test_post_loader), total=len(test_post_loader))\n",
    "    for step, data in bar:\n",
    "        images = data['image'].to(CONFIG[\"device\"], dtype=torch.float)\n",
    "        batch_size =  images.size(0)\n",
    "        outputs = model(images)\n",
    "        preds_test.append( outputs.detach().cpu().numpy() )\n",
    "preds_test = np.concatenate(preds_test).flatten()\n",
    "\n",
    "# Assign predictions to submission DataFrame # this seems correct\n",
    "subm_data[\"preds\"] = preds_test\n",
    "display(subm_data.head())"
   ]
  },
  {
   "cell_type": "markdown",
   "id": "1f437491",
   "metadata": {
    "papermill": {
     "duration": 0.011487,
     "end_time": "2024-08-31T20:45:35.868740",
     "exception": false,
     "start_time": "2024-08-31T20:45:35.857253",
     "status": "completed"
    },
    "tags": []
   },
   "source": [
    "## [Turkish Master](https://www.kaggle.com/greysky) [work](https://www.kaggle.com/code/greysky/isic-2024-only-tabular-data):"
   ]
  },
  {
   "cell_type": "code",
   "execution_count": 6,
   "id": "0abd474a",
   "metadata": {
    "execution": {
     "iopub.execute_input": "2024-08-31T20:45:35.893614Z",
     "iopub.status.busy": "2024-08-31T20:45:35.893291Z",
     "iopub.status.idle": "2024-08-31T20:45:40.763092Z",
     "shell.execute_reply": "2024-08-31T20:45:40.762326Z"
    },
    "papermill": {
     "duration": 4.884891,
     "end_time": "2024-08-31T20:45:40.765487",
     "exception": false,
     "start_time": "2024-08-31T20:45:35.880596",
     "status": "completed"
    },
    "tags": []
   },
   "outputs": [],
   "source": [
    "import os\n",
    "import gc\n",
    "import time\n",
    "import copy\n",
    "import optuna\n",
    "\n",
    "from pathlib import Path\n",
    "\n",
    "import numpy as np, pandas as pd, polars as pl\n",
    "\n",
    "from sklearn.model_selection import GroupKFold\n",
    "from sklearn.model_selection import StratifiedGroupKFold\n",
    "from sklearn.model_selection import cross_val_score\n",
    "from sklearn.preprocessing import OneHotEncoder\n",
    "from sklearn.metrics import roc_auc_score\n",
    "from sklearn.metrics import mean_squared_error\n",
    "from sklearn.ensemble import VotingClassifier\n",
    "\n",
    "from sklearn.utils import resample\n",
    "\n",
    "from imblearn.under_sampling import RandomUnderSampler\n",
    "from imblearn.pipeline import Pipeline\n",
    "from imblearn.over_sampling import RandomOverSampler\n",
    "\n",
    "import lightgbm as lgb, catboost as cb, xgboost as xgb\n",
    "\n",
    "from optuna.samplers import TPESampler\n",
    "\n",
    "from imblearn.under_sampling import NearMiss\n",
    "from imblearn.under_sampling import ClusterCentroids\n",
    "from imblearn.under_sampling import TomekLinks\n",
    "from imblearn.under_sampling import EditedNearestNeighbours\n",
    "# from imblearn.pipeline import Pipeline as ImbPipeline\n",
    "from imblearn.under_sampling import NearMiss, TomekLinks\n",
    "from sklearn.impute import SimpleImputer\n",
    "from sklearn.feature_selection import SelectKBest, chi2, mutual_info_classif, VarianceThreshold\n",
    "from sklearn.base import BaseEstimator, TransformerMixin"
   ]
  },
  {
   "cell_type": "markdown",
   "id": "4e66994e",
   "metadata": {
    "papermill": {
     "duration": 0.011883,
     "end_time": "2024-08-31T20:45:40.789763",
     "exception": false,
     "start_time": "2024-08-31T20:45:40.777880",
     "status": "completed"
    },
    "tags": []
   },
   "source": [
    "# IMAGE PREDICTIONS"
   ]
  },
  {
   "cell_type": "code",
   "execution_count": 7,
   "id": "3ac62f69",
   "metadata": {
    "execution": {
     "iopub.execute_input": "2024-08-31T20:45:40.815980Z",
     "iopub.status.busy": "2024-08-31T20:45:40.815379Z",
     "iopub.status.idle": "2024-08-31T20:45:50.579836Z",
     "shell.execute_reply": "2024-08-31T20:45:50.578597Z"
    },
    "papermill": {
     "duration": 9.780758,
     "end_time": "2024-08-31T20:45:50.582170",
     "exception": false,
     "start_time": "2024-08-31T20:45:40.801412",
     "status": "completed"
    },
    "tags": []
   },
   "outputs": [
    {
     "name": "stdout",
     "output_type": "stream",
     "text": [
      "BEST_WEIGHT = /kaggle/input/isic-pytorch-training-baseline-image-only/AUROC0.5171_Loss0.3476_epoch35.bin\r\n",
      "100%|█████████████████████████████████████████████| 1/1 [00:00<00:00,  1.78it/s]\r\n"
     ]
    }
   ],
   "source": [
    "#EFFNET V1B0\n",
    "!python /kaggle/input/isic-script-inference-effnetv1b0-f313ae/main.py /kaggle/input/isic-pytorch-training-baseline-image-only/AUROC0.5171_Loss0.3476_epoch35.bin\n",
    "!mv submission.csv submission_effnetv1b0.csv"
   ]
  },
  {
   "cell_type": "code",
   "execution_count": 8,
   "id": "2f9bd355",
   "metadata": {
    "execution": {
     "iopub.execute_input": "2024-08-31T20:45:50.606972Z",
     "iopub.status.busy": "2024-08-31T20:45:50.606674Z",
     "iopub.status.idle": "2024-08-31T20:46:11.842872Z",
     "shell.execute_reply": "2024-08-31T20:46:11.841576Z"
    },
    "papermill": {
     "duration": 21.251817,
     "end_time": "2024-08-31T20:46:11.845827",
     "exception": false,
     "start_time": "2024-08-31T20:45:50.594010",
     "status": "completed"
    },
    "tags": []
   },
   "outputs": [
    {
     "name": "stdout",
     "output_type": "stream",
     "text": [
      "/kaggle/input/isic-2024-pl-submission-script-and-preds/pl_submission.py:25: DtypeWarning: Columns (51,52) have mixed types. Specify dtype option on import or set low_memory=False.\r\n",
      "  df_train_meta = pd.read_csv(BASE_DATA_DIR + \"train-metadata.csv\")\r\n"
     ]
    }
   ],
   "source": [
    "#TARGET 3\n",
    "!python /kaggle/input/isic-2024-pl-submission-script-and-preds/pl_submission.py\n",
    "!mv submission.csv submission_image3.csv"
   ]
  },
  {
   "cell_type": "code",
   "execution_count": 9,
   "id": "df746304",
   "metadata": {
    "execution": {
     "iopub.execute_input": "2024-08-31T20:46:11.871362Z",
     "iopub.status.busy": "2024-08-31T20:46:11.871051Z",
     "iopub.status.idle": "2024-08-31T20:46:11.875265Z",
     "shell.execute_reply": "2024-08-31T20:46:11.874416Z"
    },
    "papermill": {
     "duration": 0.018982,
     "end_time": "2024-08-31T20:46:11.877153",
     "exception": false,
     "start_time": "2024-08-31T20:46:11.858171",
     "status": "completed"
    },
    "tags": []
   },
   "outputs": [],
   "source": [
    "# #EVA02\n",
    "# !python /kaggle/input/isic-script-inference-eva02/main.py /kaggle/input/isic-pytorch-training-baseline-eva02/AUROC0.5177_Loss0.2829_epoch7.bin\n",
    "# !mv submission.csv submission_eva02.csv"
   ]
  },
  {
   "cell_type": "code",
   "execution_count": 10,
   "id": "f339c12f",
   "metadata": {
    "execution": {
     "iopub.execute_input": "2024-08-31T20:46:11.901261Z",
     "iopub.status.busy": "2024-08-31T20:46:11.900976Z",
     "iopub.status.idle": "2024-08-31T20:46:11.904617Z",
     "shell.execute_reply": "2024-08-31T20:46:11.903812Z"
    },
    "papermill": {
     "duration": 0.017835,
     "end_time": "2024-08-31T20:46:11.906452",
     "exception": false,
     "start_time": "2024-08-31T20:46:11.888617",
     "status": "completed"
    },
    "tags": []
   },
   "outputs": [],
   "source": [
    "# #EDGENEXT\n",
    "# !python /kaggle/input/isic-script-inference-edgenext/main.py /kaggle/input/isic-pytorch-training-edgenext/Final_model.bin\n",
    "# !mv submission.csv submission_edgenext.csv"
   ]
  },
  {
   "cell_type": "markdown",
   "id": "9e761180",
   "metadata": {
    "papermill": {
     "duration": 0.011327,
     "end_time": "2024-08-31T20:46:11.929242",
     "exception": false,
     "start_time": "2024-08-31T20:46:11.917915",
     "status": "completed"
    },
    "tags": []
   },
   "source": [
    "# DATA PREPROCESS"
   ]
  },
  {
   "cell_type": "code",
   "execution_count": 11,
   "id": "a2ddb8fa",
   "metadata": {
    "execution": {
     "iopub.execute_input": "2024-08-31T20:46:11.953725Z",
     "iopub.status.busy": "2024-08-31T20:46:11.953479Z",
     "iopub.status.idle": "2024-08-31T20:46:11.969324Z",
     "shell.execute_reply": "2024-08-31T20:46:11.968201Z"
    },
    "papermill": {
     "duration": 0.030433,
     "end_time": "2024-08-31T20:46:11.971308",
     "exception": false,
     "start_time": "2024-08-31T20:46:11.940875",
     "status": "completed"
    },
    "tags": []
   },
   "outputs": [],
   "source": [
    "root = Path('/kaggle/input/isic-2024-challenge')\n",
    "\n",
    "train_path = root / 'train-metadata.csv'\n",
    "test_path = root / 'test-metadata.csv'\n",
    "subm_path = root / 'sample_submission.csv'\n",
    "\n",
    "id_col = 'isic_id'\n",
    "target_col = 'target'\n",
    "group_col = 'patient_id'\n",
    "\n",
    "err = 1e-5\n",
    "sampling_ratio = 0.01\n",
    "seed = 42\n",
    "\n",
    "num_cols = [\n",
    "    'age_approx',                        # Approximate age of patient at time of imaging.\n",
    "    'clin_size_long_diam_mm',            # Maximum diameter of the lesion (mm).+\n",
    "    'tbp_lv_A',                          # A inside  lesion.+\n",
    "    'tbp_lv_Aext',                       # A outside lesion.+\n",
    "    'tbp_lv_B',                          # B inside  lesion.+\n",
    "    'tbp_lv_Bext',                       # B outside lesion.+ \n",
    "    'tbp_lv_C',                          # Chroma inside  lesion.+\n",
    "    'tbp_lv_Cext',                       # Chroma outside lesion.+\n",
    "    'tbp_lv_H',                          # Hue inside the lesion; calculated as the angle of A* and B* in LAB* color space. Typical values range from 25 (red) to 75 (brown).+\n",
    "    'tbp_lv_Hext',                       # Hue outside lesion.+\n",
    "    'tbp_lv_L',                          # L inside lesion.+\n",
    "    'tbp_lv_Lext',                       # L outside lesion.+\n",
    "    'tbp_lv_areaMM2',                    # Area of lesion (mm^2).+\n",
    "    'tbp_lv_area_perim_ratio',           # Border jaggedness, the ratio between lesions perimeter and area. Circular lesions will have low values; irregular shaped lesions will have higher values. Values range 0-10.+\n",
    "    'tbp_lv_color_std_mean',             # Color irregularity, calculated as the variance of colors within the lesion's boundary.\n",
    "    'tbp_lv_deltaA',                     # Average A contrast (inside vs. outside lesion).+\n",
    "    'tbp_lv_deltaB',                     # Average B contrast (inside vs. outside lesion).+\n",
    "    'tbp_lv_deltaL',                     # Average L contrast (inside vs. outside lesion).+\n",
    "    'tbp_lv_deltaLB',                    #\n",
    "    'tbp_lv_deltaLBnorm',                # Contrast between the lesion and its immediate surrounding skin. Low contrast lesions tend to be faintly visible such as freckles; high contrast lesions tend to be those with darker pigment. Calculated as the average delta LB of the lesion relative to its immediate background in LAB* color space. Typical values range from 5.5 to 25.+\n",
    "    'tbp_lv_eccentricity',               # Eccentricity.+\n",
    "    'tbp_lv_minorAxisMM',                # Smallest lesion diameter (mm).+\n",
    "    'tbp_lv_nevi_confidence',            # Nevus confidence score (0-100 scale) is a convolutional neural network classifier estimated probability that the lesion is a nevus. The neural network was trained on approximately 57,000 lesions that were classified and labeled by a dermatologist.+,++\n",
    "    'tbp_lv_norm_border',                # Border irregularity (0-10 scale); the normalized average of border jaggedness and asymmetry.+\n",
    "    'tbp_lv_norm_color',                 # Color variation (0-10 scale); the normalized average of color asymmetry and color irregularity.+\n",
    "    'tbp_lv_perimeterMM',                # Perimeter of lesion (mm).+\n",
    "    'tbp_lv_radial_color_std_max',       # Color asymmetry, a measure of asymmetry of the spatial distribution of color within the lesion. This score is calculated by looking at the average standard deviation in LAB* color space within concentric rings originating from the lesion center. Values range 0-10.+\n",
    "    'tbp_lv_stdL',                       # Standard deviation of L inside  lesion.+\n",
    "    'tbp_lv_stdLExt',                    # Standard deviation of L outside lesion.+\n",
    "    'tbp_lv_symm_2axis',                 # Border asymmetry; a measure of asymmetry of the lesion's contour about an axis perpendicular to the lesion's most symmetric axis. Lesions with two axes of symmetry will therefore have low scores (more symmetric), while lesions with only one or zero axes of symmetry will have higher scores (less symmetric). This score is calculated by comparing opposite halves of the lesion contour over many degrees of rotation. The angle where the halves are most similar identifies the principal axis of symmetry, while the second axis of symmetry is perpendicular to the principal axis. Border asymmetry is reported as the asymmetry value about this second axis. Values range 0-10.+\n",
    "    'tbp_lv_symm_2axis_angle',           # Lesion border asymmetry angle.+\n",
    "    'tbp_lv_x',                          # X-coordinate of the lesion on 3D TBP.+\n",
    "    'tbp_lv_y',                          # Y-coordinate of the lesion on 3D TBP.+\n",
    "    'tbp_lv_z',                          # Z-coordinate of the lesion on 3D TBP.+\n",
    "]\n",
    "\n",
    "new_num_cols = [\n",
    "    'lesion_size_ratio',                 # tbp_lv_minorAxisMM      / clin_size_long_diam_mm\n",
    "    'lesion_shape_index',                # tbp_lv_areaMM2          / tbp_lv_perimeterMM **2\n",
    "    'hue_contrast',                      # tbp_lv_H                - tbp_lv_Hext              abs\n",
    "    'luminance_contrast',                # tbp_lv_L                - tbp_lv_Lext              abs\n",
    "    'lesion_color_difference',           # tbp_lv_deltaA **2       + tbp_lv_deltaB **2 + tbp_lv_deltaL **2  sqrt  \n",
    "    'border_complexity',                 # tbp_lv_norm_border      + tbp_lv_symm_2axis\n",
    "    'color_uniformity',                  # tbp_lv_color_std_mean   / tbp_lv_radial_color_std_max\n",
    "\n",
    "    'position_distance_3d',              # tbp_lv_x **2 + tbp_lv_y **2 + tbp_lv_z **2  sqrt\n",
    "    'perimeter_to_area_ratio',           # tbp_lv_perimeterMM      / tbp_lv_areaMM2\n",
    "    'area_to_perimeter_ratio',           # tbp_lv_areaMM2          / tbp_lv_perimeterMM\n",
    "    'lesion_visibility_score',           # tbp_lv_deltaLBnorm      + tbp_lv_norm_color\n",
    "    'symmetry_border_consistency',       # tbp_lv_symm_2axis       * tbp_lv_norm_border\n",
    "    'consistency_symmetry_border',       # tbp_lv_symm_2axis       * tbp_lv_norm_border / (tbp_lv_symm_2axis + tbp_lv_norm_border)\n",
    "\n",
    "    'color_consistency',                 # tbp_lv_stdL             / tbp_lv_Lext\n",
    "    'consistency_color',                 # tbp_lv_stdL*tbp_lv_Lext / tbp_lv_stdL + tbp_lv_Lext\n",
    "    'size_age_interaction',              # clin_size_long_diam_mm  * age_approx\n",
    "    'hue_color_std_interaction',         # tbp_lv_H                * tbp_lv_color_std_mean\n",
    "    'lesion_severity_index',             # tbp_lv_norm_border      + tbp_lv_norm_color + tbp_lv_eccentricity / 3\n",
    "    'shape_complexity_index',            # border_complexity       + lesion_shape_index\n",
    "    'color_contrast_index',              # tbp_lv_deltaA + tbp_lv_deltaB + tbp_lv_deltaL + tbp_lv_deltaLBnorm\n",
    "\n",
    "    'log_lesion_area',                   # tbp_lv_areaMM2          + 1  np.log\n",
    "    'normalized_lesion_size',            # clin_size_long_diam_mm  / age_approx\n",
    "    'mean_hue_difference',               # tbp_lv_H                + tbp_lv_Hext    / 2\n",
    "    'std_dev_contrast',                  # tbp_lv_deltaA **2 + tbp_lv_deltaB **2 + tbp_lv_deltaL **2   / 3  np.sqrt\n",
    "    'color_shape_composite_index',       # tbp_lv_color_std_mean   + bp_lv_area_perim_ratio + tbp_lv_symm_2axis   / 3\n",
    "    'lesion_orientation_3d',             # tbp_lv_y                , tbp_lv_x  np.arctan2\n",
    "    'overall_color_difference',          # tbp_lv_deltaA           + tbp_lv_deltaB + tbp_lv_deltaL   / 3\n",
    "\n",
    "    'symmetry_perimeter_interaction',    # tbp_lv_symm_2axis       * tbp_lv_perimeterMM\n",
    "    'comprehensive_lesion_index',        # tbp_lv_area_perim_ratio + tbp_lv_eccentricity + bp_lv_norm_color + tbp_lv_symm_2axis   / 4\n",
    "    'color_variance_ratio',              # tbp_lv_color_std_mean   / tbp_lv_stdLExt\n",
    "    'border_color_interaction',          # tbp_lv_norm_border      * tbp_lv_norm_color\n",
    "    'border_color_interaction_2',\n",
    "    'size_color_contrast_ratio',         # clin_size_long_diam_mm  / tbp_lv_deltaLBnorm\n",
    "    'age_normalized_nevi_confidence',    # tbp_lv_nevi_confidence  / age_approx\n",
    "    'age_normalized_nevi_confidence_2',\n",
    "    'color_asymmetry_index',             # tbp_lv_symm_2axis       * tbp_lv_radial_color_std_max\n",
    "\n",
    "    'volume_approximation_3d',           # tbp_lv_areaMM2          * sqrt(tbp_lv_x**2 + tbp_lv_y**2 + tbp_lv_z**2)\n",
    "    'color_range',                       # abs(tbp_lv_L - tbp_lv_Lext) + abs(tbp_lv_A - tbp_lv_Aext) + abs(tbp_lv_B - tbp_lv_Bext)\n",
    "    'shape_color_consistency',           # tbp_lv_eccentricity     * tbp_lv_color_std_mean\n",
    "    'border_length_ratio',               # tbp_lv_perimeterMM      / pi * sqrt(tbp_lv_areaMM2 / pi)\n",
    "    'age_size_symmetry_index',           # age_approx              * clin_size_long_diam_mm * tbp_lv_symm_2axis\n",
    "    'index_age_size_symmetry',           # age_approx              * tbp_lv_areaMM2 * tbp_lv_symm_2axis\n",
    "]\n",
    "\n",
    "cat_cols = ['sex', 'anatom_site_general', 'tbp_tile_type', 'tbp_lv_location', 'tbp_lv_location_simple', 'attribution']\n",
    "norm_cols = [f'{col}_patient_norm' for col in num_cols + new_num_cols]\n",
    "special_cols = ['count_per_patient']\n",
    "image_cols = [\"target_3\",\"target_effnetv1b0\"] # ,\"target_eva02\"] # ,\"target_edgenext\"]\n",
    "\n",
    "#norm_cols += image_cols\n",
    "feature_cols = num_cols + new_num_cols + cat_cols + norm_cols + special_cols"
   ]
  },
  {
   "cell_type": "code",
   "execution_count": 12,
   "id": "e7a0af21",
   "metadata": {
    "execution": {
     "iopub.execute_input": "2024-08-31T20:46:11.995593Z",
     "iopub.status.busy": "2024-08-31T20:46:11.995348Z",
     "iopub.status.idle": "2024-08-31T20:46:12.023193Z",
     "shell.execute_reply": "2024-08-31T20:46:12.022377Z"
    },
    "papermill": {
     "duration": 0.042161,
     "end_time": "2024-08-31T20:46:12.025050",
     "exception": false,
     "start_time": "2024-08-31T20:46:11.982889",
     "status": "completed"
    },
    "tags": []
   },
   "outputs": [],
   "source": [
    "def read_data(path):\n",
    "    return (\n",
    "        pl.read_csv(path)\n",
    "        .with_columns(\n",
    "            pl.col('age_approx').cast(pl.String).replace('NA', np.nan).cast(pl.Float64),\n",
    "        )\n",
    "        .with_columns(\n",
    "            pl.col(pl.Float64).fill_nan(pl.col(pl.Float64).median()), # You may want to impute test data with train\n",
    "        )\n",
    "        .with_columns(\n",
    "            lesion_size_ratio              = pl.col('tbp_lv_minorAxisMM') / pl.col('clin_size_long_diam_mm'),\n",
    "            lesion_shape_index             = pl.col('tbp_lv_areaMM2') / (pl.col('tbp_lv_perimeterMM') ** 2),\n",
    "            hue_contrast                   = (pl.col('tbp_lv_H') - pl.col('tbp_lv_Hext')).abs(),\n",
    "            luminance_contrast             = (pl.col('tbp_lv_L') - pl.col('tbp_lv_Lext')).abs(),\n",
    "            lesion_color_difference        = (pl.col('tbp_lv_deltaA') ** 2 + pl.col('tbp_lv_deltaB') ** 2 + pl.col('tbp_lv_deltaL') ** 2).sqrt(),\n",
    "            border_complexity              = pl.col('tbp_lv_norm_border') + pl.col('tbp_lv_symm_2axis'),\n",
    "            color_uniformity               = pl.col('tbp_lv_color_std_mean') / (pl.col('tbp_lv_radial_color_std_max') + err),\n",
    "        )\n",
    "        .with_columns(\n",
    "            position_distance_3d           = (pl.col('tbp_lv_x') ** 2 + pl.col('tbp_lv_y') ** 2 + pl.col('tbp_lv_z') ** 2).sqrt(),\n",
    "            perimeter_to_area_ratio        = pl.col('tbp_lv_perimeterMM') / pl.col('tbp_lv_areaMM2'),\n",
    "            area_to_perimeter_ratio        = pl.col('tbp_lv_areaMM2') / pl.col('tbp_lv_perimeterMM'),\n",
    "            lesion_visibility_score        = pl.col('tbp_lv_deltaLBnorm') + pl.col('tbp_lv_norm_color'),\n",
    "            combined_anatomical_site       = pl.col('anatom_site_general') + '_' + pl.col('tbp_lv_location'),\n",
    "            symmetry_border_consistency    = pl.col('tbp_lv_symm_2axis') * pl.col('tbp_lv_norm_border'),\n",
    "            consistency_symmetry_border    = pl.col('tbp_lv_symm_2axis') * pl.col('tbp_lv_norm_border') / (pl.col('tbp_lv_symm_2axis') + pl.col('tbp_lv_norm_border')),\n",
    "        )\n",
    "        .with_columns(\n",
    "            color_consistency              = pl.col('tbp_lv_stdL') / pl.col('tbp_lv_Lext'),\n",
    "            consistency_color              = pl.col('tbp_lv_stdL') * pl.col('tbp_lv_Lext') / (pl.col('tbp_lv_stdL') + pl.col('tbp_lv_Lext')),\n",
    "            size_age_interaction           = pl.col('clin_size_long_diam_mm') * pl.col('age_approx'),\n",
    "            hue_color_std_interaction      = pl.col('tbp_lv_H') * pl.col('tbp_lv_color_std_mean'),\n",
    "            lesion_severity_index          = (pl.col('tbp_lv_norm_border') + pl.col('tbp_lv_norm_color') + pl.col('tbp_lv_eccentricity')) / 3,\n",
    "            shape_complexity_index         = pl.col('border_complexity') + pl.col('lesion_shape_index'),\n",
    "            color_contrast_index           = pl.col('tbp_lv_deltaA') + pl.col('tbp_lv_deltaB') + pl.col('tbp_lv_deltaL') + pl.col('tbp_lv_deltaLBnorm'),\n",
    "        )\n",
    "        .with_columns(\n",
    "            log_lesion_area                = (pl.col('tbp_lv_areaMM2') + 1).log(),\n",
    "            normalized_lesion_size         = pl.col('clin_size_long_diam_mm') / pl.col('age_approx'),\n",
    "            mean_hue_difference            = (pl.col('tbp_lv_H') + pl.col('tbp_lv_Hext')) / 2,\n",
    "            std_dev_contrast               = ((pl.col('tbp_lv_deltaA') ** 2 + pl.col('tbp_lv_deltaB') ** 2 + pl.col('tbp_lv_deltaL') ** 2) / 3).sqrt(),\n",
    "            color_shape_composite_index    = (pl.col('tbp_lv_color_std_mean') + pl.col('tbp_lv_area_perim_ratio') + pl.col('tbp_lv_symm_2axis')) / 3,\n",
    "            lesion_orientation_3d          = pl.arctan2(pl.col('tbp_lv_y'), pl.col('tbp_lv_x')),\n",
    "            overall_color_difference       = (pl.col('tbp_lv_deltaA') + pl.col('tbp_lv_deltaB') + pl.col('tbp_lv_deltaL')) / 3,\n",
    "        )\n",
    "        .with_columns(\n",
    "            symmetry_perimeter_interaction = pl.col('tbp_lv_symm_2axis') * pl.col('tbp_lv_perimeterMM'),\n",
    "            comprehensive_lesion_index     = (pl.col('tbp_lv_area_perim_ratio') + pl.col('tbp_lv_eccentricity') + pl.col('tbp_lv_norm_color') + pl.col('tbp_lv_symm_2axis')) / 4,\n",
    "            color_variance_ratio           = pl.col('tbp_lv_color_std_mean') / pl.col('tbp_lv_stdLExt'),\n",
    "            border_color_interaction       = pl.col('tbp_lv_norm_border') * pl.col('tbp_lv_norm_color'),\n",
    "            border_color_interaction_2     = pl.col('tbp_lv_norm_border') * pl.col('tbp_lv_norm_color') / (pl.col('tbp_lv_norm_border') + pl.col('tbp_lv_norm_color')),\n",
    "            size_color_contrast_ratio      = pl.col('clin_size_long_diam_mm') / pl.col('tbp_lv_deltaLBnorm'),\n",
    "            age_normalized_nevi_confidence = pl.col('tbp_lv_nevi_confidence') / pl.col('age_approx'),\n",
    "            age_normalized_nevi_confidence_2 = (pl.col('clin_size_long_diam_mm')**2 + pl.col('age_approx')**2).sqrt(),\n",
    "            color_asymmetry_index          = pl.col('tbp_lv_radial_color_std_max') * pl.col('tbp_lv_symm_2axis'),\n",
    "        )\n",
    "        .with_columns(\n",
    "            volume_approximation_3d        = pl.col('tbp_lv_areaMM2') * (pl.col('tbp_lv_x')**2 + pl.col('tbp_lv_y')**2 + pl.col('tbp_lv_z')**2).sqrt(),\n",
    "            color_range                    = (pl.col('tbp_lv_L') - pl.col('tbp_lv_Lext')).abs() + (pl.col('tbp_lv_A') - pl.col('tbp_lv_Aext')).abs() + (pl.col('tbp_lv_B') - pl.col('tbp_lv_Bext')).abs(),\n",
    "            shape_color_consistency        = pl.col('tbp_lv_eccentricity') * pl.col('tbp_lv_color_std_mean'),\n",
    "            border_length_ratio            = pl.col('tbp_lv_perimeterMM') / (2 * np.pi * (pl.col('tbp_lv_areaMM2') / np.pi).sqrt()),\n",
    "            age_size_symmetry_index        = pl.col('age_approx') * pl.col('clin_size_long_diam_mm') * pl.col('tbp_lv_symm_2axis'),\n",
    "            index_age_size_symmetry        = pl.col('age_approx') * pl.col('tbp_lv_areaMM2') * pl.col('tbp_lv_symm_2axis'),\n",
    "        )\n",
    "        .with_columns(\n",
    "            ((pl.col(col) - pl.col(col).mean().over('patient_id')) / (pl.col(col).std().over('patient_id') + err)).alias(f'{col}_patient_norm') for col in (num_cols + new_num_cols)\n",
    "        )\n",
    "        .with_columns(\n",
    "            count_per_patient = pl.col('isic_id').count().over('patient_id'),\n",
    "        )\n",
    "        .with_columns(\n",
    "            pl.col(cat_cols).cast(pl.Categorical),\n",
    "        )\n",
    "        .to_pandas()\n",
    "        .set_index(id_col)\n",
    "    )"
   ]
  },
  {
   "cell_type": "code",
   "execution_count": 13,
   "id": "7eb44bac",
   "metadata": {
    "execution": {
     "iopub.execute_input": "2024-08-31T20:46:12.050285Z",
     "iopub.status.busy": "2024-08-31T20:46:12.049970Z",
     "iopub.status.idle": "2024-08-31T20:46:12.060634Z",
     "shell.execute_reply": "2024-08-31T20:46:12.059800Z"
    },
    "papermill": {
     "duration": 0.02605,
     "end_time": "2024-08-31T20:46:12.062666",
     "exception": false,
     "start_time": "2024-08-31T20:46:12.036616",
     "status": "completed"
    },
    "tags": []
   },
   "outputs": [],
   "source": [
    "def preprocess(df_train, df_test):\n",
    "    global cat_cols\n",
    "    \n",
    "    encoder = OneHotEncoder(sparse_output=False, dtype=np.int32, handle_unknown='ignore')\n",
    "    encoder.fit(df_train[cat_cols])\n",
    "    \n",
    "    new_cat_cols = [f'onehot_{i}' for i in range(len(encoder.get_feature_names_out()))]\n",
    "\n",
    "    df_train[new_cat_cols] = encoder.transform(df_train[cat_cols])\n",
    "    df_train[new_cat_cols] = df_train[new_cat_cols].astype('category')\n",
    "\n",
    "    df_test[new_cat_cols] = encoder.transform(df_test[cat_cols])\n",
    "    df_test[new_cat_cols] = df_test[new_cat_cols].astype('category')  \n",
    "    \n",
    "    # effnetv1b0\n",
    "    df_eff = pd.read_csv(\"/kaggle/input/isic-inference-effnetv1b0-for-training-data/train_effnetv1b0.csv\")\n",
    "    df_train = df_train.reset_index(drop=True)\n",
    "    df_eff = df_eff.reset_index(drop=True)\n",
    "    df_train[\"target_effnetv1b0\"] = df_eff[\"target_effnetv1b0\"]\n",
    "    df_eff = pd.read_csv(\"submission_effnetv1b0.csv\")\n",
    "    df_test = df_test.reset_index(drop=True)\n",
    "    df_eff = df_eff.reset_index(drop=True)\n",
    "    df_test[\"target_effnetv1b0\"] = df_eff[\"target\"]\n",
    "        \n",
    "    # target 3\n",
    "    df_image_3 = pd.read_csv(\"/kaggle/input/isic-2024-pl-submission-script-and-preds/train_preds.csv\")\n",
    "    df_train = df_train.reset_index(drop=True)\n",
    "    df_image_3 = df_image_3.reset_index(drop=True)\n",
    "    df_train[\"target_3\"] = df_image_3[\"pred\"]\n",
    "    df_3 = pd.read_csv(\"submission_image3.csv\")\n",
    "    df_test = df_test.reset_index(drop=True)\n",
    "    df_image_3 = df_image_3.reset_index(drop=True)\n",
    "    df_test[\"target_3\"] = df_3[\"target\"]\n",
    "    \n",
    "#     #eva02\n",
    "#     df_eva = pd.read_csv(\"/kaggle/input/isic-inference-eva02-for-training-data/train_eva02.csv\")\n",
    "#     df_train = df_train.reset_index(drop=True)\n",
    "#     df_eva = df_eva.reset_index(drop=True)\n",
    "#     df_eva = df_eva[[\"target_eva02\"]]\n",
    "#     df_train[\"target_eva02\"] = df_eva[\"target_eva02\"]\n",
    "#     df_eva = pd.read_csv(\"submission_eva02.csv\")\n",
    "#     df_test = df_test.reset_index(drop=True)\n",
    "#     df_eva = df_eva.reset_index(drop=True)\n",
    "#     df_test[\"target_eva02\"] = df_eva[\"target\"]\n",
    "    \n",
    "#     #edgenext\n",
    "#     df_ednx = pd.read_csv(\"/kaggle/input/isic-inference-edgenext-for-training-data/train_edgenext.csv\")\n",
    "#     df_train = df_train.reset_index(drop=True)\n",
    "#     df_ednx = df_ednx.reset_index(drop=True)\n",
    "#     df_ednx = df_ednx[['target_edgenext']]\n",
    "#     df_train['target_edgenext'] = df_ednx['target_edgenext']\n",
    "#     df_ednx = pd.read_csv(\"submission_edgenext.csv\")\n",
    "#     df_test = df_test.reset_index(drop=True)\n",
    "#     df_ednx = df_ednx.reset_index(drop=True)\n",
    "#     df_test [\"target_edgenext\"] = df_ednx['target']\n",
    "\n",
    "    for col in cat_cols:\n",
    "        feature_cols.remove(col)\n",
    "\n",
    "    feature_cols.extend(new_cat_cols)\n",
    "    cat_cols = new_cat_cols\n",
    "    \n",
    "    return df_train, df_test"
   ]
  },
  {
   "cell_type": "code",
   "execution_count": 14,
   "id": "3726eb86",
   "metadata": {
    "execution": {
     "iopub.execute_input": "2024-08-31T20:46:12.087259Z",
     "iopub.status.busy": "2024-08-31T20:46:12.086568Z",
     "iopub.status.idle": "2024-08-31T20:46:12.092855Z",
     "shell.execute_reply": "2024-08-31T20:46:12.092014Z"
    },
    "papermill": {
     "duration": 0.020607,
     "end_time": "2024-08-31T20:46:12.094882",
     "exception": false,
     "start_time": "2024-08-31T20:46:12.074275",
     "status": "completed"
    },
    "tags": []
   },
   "outputs": [],
   "source": [
    "def custom_metric(estimator, X, y_true):\n",
    "    y_hat = estimator.predict_proba(X)[:, 1]\n",
    "    min_tpr = 0.80\n",
    "    max_fpr = abs(1 - min_tpr)\n",
    "    \n",
    "    v_gt = abs(y_true - 1)\n",
    "    v_pred = np.array([1.0 - x for x in y_hat])\n",
    "    \n",
    "    partial_auc_scaled = roc_auc_score(v_gt, v_pred, max_fpr=max_fpr)\n",
    "    partial_auc = 0.5 * max_fpr**2 + (max_fpr - 0.5 * max_fpr**2) / (1.0 - 0.5) * (partial_auc_scaled - 0.5)\n",
    "    \n",
    "    return partial_auc"
   ]
  },
  {
   "cell_type": "code",
   "execution_count": 15,
   "id": "e4409671",
   "metadata": {
    "execution": {
     "iopub.execute_input": "2024-08-31T20:46:12.120219Z",
     "iopub.status.busy": "2024-08-31T20:46:12.119950Z",
     "iopub.status.idle": "2024-08-31T20:46:26.975051Z",
     "shell.execute_reply": "2024-08-31T20:46:26.974050Z"
    },
    "papermill": {
     "duration": 14.870972,
     "end_time": "2024-08-31T20:46:26.977478",
     "exception": false,
     "start_time": "2024-08-31T20:46:12.106506",
     "status": "completed"
    },
    "tags": []
   },
   "outputs": [],
   "source": [
    "df_train = read_data(train_path)\n",
    "df_test = read_data(test_path)\n",
    "df_subm = pd.read_csv(subm_path, index_col=id_col)\n",
    "\n",
    "df_train, df_test = preprocess(df_train, df_test)"
   ]
  },
  {
   "cell_type": "markdown",
   "id": "3e339496",
   "metadata": {
    "papermill": {
     "duration": 0.012051,
     "end_time": "2024-08-31T20:46:27.002333",
     "exception": false,
     "start_time": "2024-08-31T20:46:26.990282",
     "status": "completed"
    },
    "tags": []
   },
   "source": [
    "***drop least important features with feature importance(code at the last of the notebook before test predictions)***"
   ]
  },
  {
   "cell_type": "code",
   "execution_count": 16,
   "id": "01cc0e5b",
   "metadata": {
    "execution": {
     "iopub.execute_input": "2024-08-31T20:46:27.027108Z",
     "iopub.status.busy": "2024-08-31T20:46:27.026775Z",
     "iopub.status.idle": "2024-08-31T20:46:27.234736Z",
     "shell.execute_reply": "2024-08-31T20:46:27.233707Z"
    },
    "papermill": {
     "duration": 0.222801,
     "end_time": "2024-08-31T20:46:27.237043",
     "exception": false,
     "start_time": "2024-08-31T20:46:27.014242",
     "status": "completed"
    },
    "tags": []
   },
   "outputs": [],
   "source": [
    "#they are detected at the first run\n",
    "least_important_features = ['onehot_32', 'onehot_6', 'onehot_33', 'onehot_30', 'onehot_26', 'onehot_22', 'onehot_36', 'onehot_4']\n",
    "#they are detected after the least_important_features are removed and it has increased cv score also so I add it\n",
    "#least_important_features_2 = ['onehot_17', 'onehot_42', 'onehot_29', 'onehot_13', 'onehot_25']\n",
    "#least_important_features += least_important_features_2\n",
    "df_train.drop(columns =least_important_features,inplace = True)\n",
    "for feature in least_important_features:\n",
    "    cat_cols.remove(feature)\n",
    "    feature_cols.remove(feature)"
   ]
  },
  {
   "cell_type": "markdown",
   "id": "9259461c",
   "metadata": {
    "papermill": {
     "duration": 0.011291,
     "end_time": "2024-08-31T20:46:27.260370",
     "exception": false,
     "start_time": "2024-08-31T20:46:27.249079",
     "status": "completed"
    },
    "tags": []
   },
   "source": [
    "# MODEL INITIALIZATION"
   ]
  },
  {
   "cell_type": "code",
   "execution_count": 17,
   "id": "4663437b",
   "metadata": {
    "execution": {
     "iopub.execute_input": "2024-08-31T20:46:27.284648Z",
     "iopub.status.busy": "2024-08-31T20:46:27.284319Z",
     "iopub.status.idle": "2024-08-31T20:46:27.290847Z",
     "shell.execute_reply": "2024-08-31T20:46:27.289996Z"
    },
    "papermill": {
     "duration": 0.020975,
     "end_time": "2024-08-31T20:46:27.292901",
     "exception": false,
     "start_time": "2024-08-31T20:46:27.271926",
     "status": "completed"
    },
    "tags": []
   },
   "outputs": [],
   "source": [
    "feature_cols_without_image_cols = copy.copy(feature_cols)\n",
    "feature_cols += image_cols\n",
    "\n",
    "class SelectColumns(BaseEstimator, TransformerMixin):\n",
    "    def __init__(self, columns):\n",
    "        self.columns = columns\n",
    "    def fit(self, X, y=None):\n",
    "        return self\n",
    "    def transform(self, X):\n",
    "        return X[self.columns]"
   ]
  },
  {
   "cell_type": "code",
   "execution_count": 18,
   "id": "9fd26486",
   "metadata": {
    "execution": {
     "iopub.execute_input": "2024-08-31T20:46:27.317132Z",
     "iopub.status.busy": "2024-08-31T20:46:27.316831Z",
     "iopub.status.idle": "2024-08-31T20:46:27.323770Z",
     "shell.execute_reply": "2024-08-31T20:46:27.323043Z"
    },
    "papermill": {
     "duration": 0.021097,
     "end_time": "2024-08-31T20:46:27.325720",
     "exception": false,
     "start_time": "2024-08-31T20:46:27.304623",
     "status": "completed"
    },
    "tags": []
   },
   "outputs": [],
   "source": [
    "lgb_params = {\n",
    "    'objective':        'binary',\n",
    "    'verbosity':        -1,\n",
    "    'n_iter':           200,\n",
    "    'boosting_type':    'gbdt',\n",
    "    'random_state':     seed,\n",
    "    'lambda_l1':        0.08758718919397321, \n",
    "    'lambda_l2':        0.0039689175176025465, \n",
    "    'learning_rate':    0.03231007103195577, \n",
    "    'max_depth':        4, \n",
    "    'num_leaves':       103, \n",
    "    'colsample_bytree': 0.8329551585827726, \n",
    "    'colsample_bynode': 0.4025961355653304, \n",
    "    'bagging_fraction': 0.7738954452473223, \n",
    "    'bagging_freq':     4, \n",
    "    'min_data_in_leaf': 85, \n",
    "    'scale_pos_weight': 2.7984184778875543,\n",
    "}\n",
    "\n",
    "\n",
    "sampling_ratio = 0.01\n",
    "seed =42\n",
    "\n",
    "lgb_model = Pipeline([\n",
    "    ('sampler_1', RandomOverSampler(sampling_strategy= 0.003 , random_state=seed)),\n",
    "    ('sampler_2', RandomUnderSampler(sampling_strategy=sampling_ratio, random_state=seed)),\n",
    "    ('filter', SelectColumns(feature_cols_without_image_cols)),\n",
    "    ('classifier', lgb.LGBMClassifier(**lgb_params)),\n",
    "])"
   ]
  },
  {
   "cell_type": "code",
   "execution_count": 19,
   "id": "bac40bf6",
   "metadata": {
    "execution": {
     "iopub.execute_input": "2024-08-31T20:46:27.349719Z",
     "iopub.status.busy": "2024-08-31T20:46:27.349456Z",
     "iopub.status.idle": "2024-08-31T20:46:27.358556Z",
     "shell.execute_reply": "2024-08-31T20:46:27.357844Z"
    },
    "papermill": {
     "duration": 0.023184,
     "end_time": "2024-08-31T20:46:27.360446",
     "exception": false,
     "start_time": "2024-08-31T20:46:27.337262",
     "status": "completed"
    },
    "tags": []
   },
   "outputs": [],
   "source": [
    "cb_params = {\n",
    "    'loss_function':     'Logloss',\n",
    "    'iterations':        250,\n",
    "    'verbose':           False,\n",
    "    'random_state':      seed,\n",
    "    'max_depth':         7, \n",
    "    'learning_rate':     0.06936242010150652, \n",
    "    'scale_pos_weight':  2.6149345838209532, \n",
    "    'l2_leaf_reg':       6.216113851699493, \n",
    "    'subsample':         0.6249261779711819, \n",
    "    'min_data_in_leaf':  24,\n",
    "    'cat_features':      cat_cols,\n",
    "}\n",
    "cb_model = Pipeline([\n",
    "    ('sampler_1', RandomOverSampler(sampling_strategy= 0.003 , random_state=seed)),\n",
    "    ('sampler_2', RandomUnderSampler(sampling_strategy=sampling_ratio, random_state=seed)),\n",
    "    ('classifier', cb.CatBoostClassifier(**cb_params)),\n",
    "])"
   ]
  },
  {
   "cell_type": "code",
   "execution_count": 20,
   "id": "556d4119",
   "metadata": {
    "execution": {
     "iopub.execute_input": "2024-08-31T20:46:27.385155Z",
     "iopub.status.busy": "2024-08-31T20:46:27.384665Z",
     "iopub.status.idle": "2024-08-31T20:46:27.390877Z",
     "shell.execute_reply": "2024-08-31T20:46:27.390047Z"
    },
    "papermill": {
     "duration": 0.020109,
     "end_time": "2024-08-31T20:46:27.392675",
     "exception": false,
     "start_time": "2024-08-31T20:46:27.372566",
     "status": "completed"
    },
    "tags": []
   },
   "outputs": [],
   "source": [
    "xgb_params = {\n",
    "    'enable_categorical': True,\n",
    "    'tree_method':        'hist',\n",
    "    'random_state':       seed,\n",
    "    'learning_rate':      0.08501257473292347, \n",
    "    'lambda':             8.879624125465703, \n",
    "    'alpha':              0.6779926606782505, \n",
    "    'max_depth':          6, \n",
    "    'subsample':          0.6012681388711075, \n",
    "    'colsample_bytree':   0.8437772277074493, \n",
    "    'colsample_bylevel':  0.5476090898823716, \n",
    "    'colsample_bynode':   0.9928601203635129, \n",
    "    'scale_pos_weight':   3.29440313334688,\n",
    "}\n",
    "\n",
    "xgb_model = Pipeline([\n",
    "    ('sampler_1', RandomOverSampler(sampling_strategy= 0.003 , random_state=seed)),\n",
    "    ('sampler_2', RandomUnderSampler(sampling_strategy=sampling_ratio, random_state=seed)),\n",
    "    ('classifier', xgb.XGBClassifier(**xgb_params)),\n",
    "])"
   ]
  },
  {
   "cell_type": "code",
   "execution_count": 21,
   "id": "a3d3d8f5",
   "metadata": {
    "execution": {
     "iopub.execute_input": "2024-08-31T20:46:27.417219Z",
     "iopub.status.busy": "2024-08-31T20:46:27.416926Z",
     "iopub.status.idle": "2024-08-31T20:46:27.421946Z",
     "shell.execute_reply": "2024-08-31T20:46:27.421044Z"
    },
    "papermill": {
     "duration": 0.02014,
     "end_time": "2024-08-31T20:46:27.424211",
     "exception": false,
     "start_time": "2024-08-31T20:46:27.404071",
     "status": "completed"
    },
    "tags": []
   },
   "outputs": [],
   "source": [
    "estimator = VotingClassifier([\n",
    "    ('lgb', lgb_model), ('cb', cb_model), ('xgb', xgb_model),\n",
    "], voting='soft') # ,weights=[0.30,0.47,0.28])"
   ]
  },
  {
   "cell_type": "markdown",
   "id": "602a81e7",
   "metadata": {
    "papermill": {
     "duration": 0.011322,
     "end_time": "2024-08-31T20:46:27.447466",
     "exception": false,
     "start_time": "2024-08-31T20:46:27.436144",
     "status": "completed"
    },
    "tags": []
   },
   "source": [
    "# CROSS VALIDATION"
   ]
  },
  {
   "cell_type": "code",
   "execution_count": 22,
   "id": "54716d42",
   "metadata": {
    "execution": {
     "iopub.execute_input": "2024-08-31T20:46:27.472473Z",
     "iopub.status.busy": "2024-08-31T20:46:27.472209Z",
     "iopub.status.idle": "2024-08-31T20:50:09.356851Z",
     "shell.execute_reply": "2024-08-31T20:50:09.355914Z"
    },
    "papermill": {
     "duration": 221.910913,
     "end_time": "2024-08-31T20:50:09.370249",
     "exception": false,
     "start_time": "2024-08-31T20:46:27.459336",
     "status": "completed"
    },
    "tags": []
   },
   "outputs": [
    {
     "data": {
      "text/plain": [
       "(0.18602268276963513,\n",
       " array([0.17929879, 0.18686815, 0.19419583, 0.18136177, 0.18838888]))"
      ]
     },
     "execution_count": 22,
     "metadata": {},
     "output_type": "execute_result"
    }
   ],
   "source": [
    "X = df_train[feature_cols]\n",
    "y = df_train[target_col]\n",
    "groups = df_train[group_col]\n",
    "cv = StratifiedGroupKFold(5, shuffle=True, random_state=seed)\n",
    "\n",
    "val_score = cross_val_score(\n",
    "    estimator=estimator, \n",
    "    X=X, y=y, \n",
    "    cv=cv, \n",
    "    groups=groups,\n",
    "    scoring=custom_metric,\n",
    ")\n",
    "\n",
    "np.mean(val_score), val_score\n",
    "\n",
    "# +edgenext (0.19038159621700457, [0.19015561, 0.18941902, 0.19590514, 0.18606745, 0.19036077] 0.183\n",
    "# +weights  (0.19066216984004480, [0.19070906, 0.1896957 , 0.19616528, 0.18614882, 0.19059200] 0.184\n",
    "# -edgenext (0.18701131376334698, [0.18175392, 0.18589138, 0.19438251, 0.18259752, 0.19043124] \n",
    "# -weights  (0.1866816392084475,  [0.18131607, 0.18526876, 0.19415136, 0.18244858, 0.19022342] ?.?\n",
    "# -eva02    (0.18602268276963513, [0.17929879, 0.18686815, 0.19419583, 0.18136177, 0.18838888] ?.?"
   ]
  },
  {
   "cell_type": "code",
   "execution_count": 23,
   "id": "4b6e8cff",
   "metadata": {
    "execution": {
     "iopub.execute_input": "2024-08-31T20:50:09.394710Z",
     "iopub.status.busy": "2024-08-31T20:50:09.394401Z",
     "iopub.status.idle": "2024-08-31T20:50:59.717154Z",
     "shell.execute_reply": "2024-08-31T20:50:59.716210Z"
    },
    "papermill": {
     "duration": 50.350211,
     "end_time": "2024-08-31T20:50:59.732127",
     "exception": false,
     "start_time": "2024-08-31T20:50:09.381916",
     "status": "completed"
    },
    "tags": []
   },
   "outputs": [
    {
     "data": {
      "text/html": [
       "<style>#sk-container-id-1 {color: black;background-color: white;}#sk-container-id-1 pre{padding: 0;}#sk-container-id-1 div.sk-toggleable {background-color: white;}#sk-container-id-1 label.sk-toggleable__label {cursor: pointer;display: block;width: 100%;margin-bottom: 0;padding: 0.3em;box-sizing: border-box;text-align: center;}#sk-container-id-1 label.sk-toggleable__label-arrow:before {content: \"▸\";float: left;margin-right: 0.25em;color: #696969;}#sk-container-id-1 label.sk-toggleable__label-arrow:hover:before {color: black;}#sk-container-id-1 div.sk-estimator:hover label.sk-toggleable__label-arrow:before {color: black;}#sk-container-id-1 div.sk-toggleable__content {max-height: 0;max-width: 0;overflow: hidden;text-align: left;background-color: #f0f8ff;}#sk-container-id-1 div.sk-toggleable__content pre {margin: 0.2em;color: black;border-radius: 0.25em;background-color: #f0f8ff;}#sk-container-id-1 input.sk-toggleable__control:checked~div.sk-toggleable__content {max-height: 200px;max-width: 100%;overflow: auto;}#sk-container-id-1 input.sk-toggleable__control:checked~label.sk-toggleable__label-arrow:before {content: \"▾\";}#sk-container-id-1 div.sk-estimator input.sk-toggleable__control:checked~label.sk-toggleable__label {background-color: #d4ebff;}#sk-container-id-1 div.sk-label input.sk-toggleable__control:checked~label.sk-toggleable__label {background-color: #d4ebff;}#sk-container-id-1 input.sk-hidden--visually {border: 0;clip: rect(1px 1px 1px 1px);clip: rect(1px, 1px, 1px, 1px);height: 1px;margin: -1px;overflow: hidden;padding: 0;position: absolute;width: 1px;}#sk-container-id-1 div.sk-estimator {font-family: monospace;background-color: #f0f8ff;border: 1px dotted black;border-radius: 0.25em;box-sizing: border-box;margin-bottom: 0.5em;}#sk-container-id-1 div.sk-estimator:hover {background-color: #d4ebff;}#sk-container-id-1 div.sk-parallel-item::after {content: \"\";width: 100%;border-bottom: 1px solid gray;flex-grow: 1;}#sk-container-id-1 div.sk-label:hover label.sk-toggleable__label {background-color: #d4ebff;}#sk-container-id-1 div.sk-serial::before {content: \"\";position: absolute;border-left: 1px solid gray;box-sizing: border-box;top: 0;bottom: 0;left: 50%;z-index: 0;}#sk-container-id-1 div.sk-serial {display: flex;flex-direction: column;align-items: center;background-color: white;padding-right: 0.2em;padding-left: 0.2em;position: relative;}#sk-container-id-1 div.sk-item {position: relative;z-index: 1;}#sk-container-id-1 div.sk-parallel {display: flex;align-items: stretch;justify-content: center;background-color: white;position: relative;}#sk-container-id-1 div.sk-item::before, #sk-container-id-1 div.sk-parallel-item::before {content: \"\";position: absolute;border-left: 1px solid gray;box-sizing: border-box;top: 0;bottom: 0;left: 50%;z-index: -1;}#sk-container-id-1 div.sk-parallel-item {display: flex;flex-direction: column;z-index: 1;position: relative;background-color: white;}#sk-container-id-1 div.sk-parallel-item:first-child::after {align-self: flex-end;width: 50%;}#sk-container-id-1 div.sk-parallel-item:last-child::after {align-self: flex-start;width: 50%;}#sk-container-id-1 div.sk-parallel-item:only-child::after {width: 0;}#sk-container-id-1 div.sk-dashed-wrapped {border: 1px dashed gray;margin: 0 0.4em 0.5em 0.4em;box-sizing: border-box;padding-bottom: 0.4em;background-color: white;}#sk-container-id-1 div.sk-label label {font-family: monospace;font-weight: bold;display: inline-block;line-height: 1.2em;}#sk-container-id-1 div.sk-label-container {text-align: center;}#sk-container-id-1 div.sk-container {/* jupyter's `normalize.less` sets `[hidden] { display: none; }` but bootstrap.min.css set `[hidden] { display: none !important; }` so we also need the `!important` here to be able to override the default hidden behavior on the sphinx rendered scikit-learn.org. See: https://github.com/scikit-learn/scikit-learn/issues/21755 */display: inline-block !important;position: relative;}#sk-container-id-1 div.sk-text-repr-fallback {display: none;}</style><div id=\"sk-container-id-1\" class=\"sk-top-container\"><div class=\"sk-text-repr-fallback\"><pre>VotingClassifier(estimators=[(&#x27;lgb&#x27;,\n",
       "                              Pipeline(steps=[(&#x27;sampler_1&#x27;,\n",
       "                                               RandomOverSampler(random_state=42,\n",
       "                                                                 sampling_strategy=0.003)),\n",
       "                                              (&#x27;sampler_2&#x27;,\n",
       "                                               RandomUnderSampler(random_state=42,\n",
       "                                                                  sampling_strategy=0.01)),\n",
       "                                              (&#x27;filter&#x27;,\n",
       "                                               SelectColumns(columns=[&#x27;age_approx&#x27;,\n",
       "                                                                      &#x27;clin_size_long_diam_mm&#x27;,\n",
       "                                                                      &#x27;tbp_lv_A&#x27;,\n",
       "                                                                      &#x27;tbp_lv_Aext&#x27;,\n",
       "                                                                      &#x27;tbp_lv_B&#x27;,\n",
       "                                                                      &#x27;tbp_lv_Bext&#x27;,\n",
       "                                                                      &#x27;tbp_lv_C&#x27;,\n",
       "                                                                      &#x27;tbp_lv_Cext&#x27;,\n",
       "                                                                      &#x27;tbp_l...\n",
       "                                                             importance_type=None,\n",
       "                                                             interaction_constraints=None,\n",
       "                                                             lambda=8.879624125465703,\n",
       "                                                             learning_rate=0.08501257473292347,\n",
       "                                                             max_bin=None,\n",
       "                                                             max_cat_threshold=None,\n",
       "                                                             max_cat_to_onehot=None,\n",
       "                                                             max_delta_step=None,\n",
       "                                                             max_depth=6,\n",
       "                                                             max_leaves=None,\n",
       "                                                             min_child_weight=None,\n",
       "                                                             missing=nan,\n",
       "                                                             monotone_constraints=None,\n",
       "                                                             multi_strategy=None,\n",
       "                                                             n_estimators=None,\n",
       "                                                             n_jobs=None, ...))]))],\n",
       "                 voting=&#x27;soft&#x27;)</pre><b>In a Jupyter environment, please rerun this cell to show the HTML representation or trust the notebook. <br />On GitHub, the HTML representation is unable to render, please try loading this page with nbviewer.org.</b></div><div class=\"sk-container\" hidden><div class=\"sk-item sk-dashed-wrapped\"><div class=\"sk-label-container\"><div class=\"sk-label sk-toggleable\"><input class=\"sk-toggleable__control sk-hidden--visually\" id=\"sk-estimator-id-1\" type=\"checkbox\" ><label for=\"sk-estimator-id-1\" class=\"sk-toggleable__label sk-toggleable__label-arrow\">VotingClassifier</label><div class=\"sk-toggleable__content\"><pre>VotingClassifier(estimators=[(&#x27;lgb&#x27;,\n",
       "                              Pipeline(steps=[(&#x27;sampler_1&#x27;,\n",
       "                                               RandomOverSampler(random_state=42,\n",
       "                                                                 sampling_strategy=0.003)),\n",
       "                                              (&#x27;sampler_2&#x27;,\n",
       "                                               RandomUnderSampler(random_state=42,\n",
       "                                                                  sampling_strategy=0.01)),\n",
       "                                              (&#x27;filter&#x27;,\n",
       "                                               SelectColumns(columns=[&#x27;age_approx&#x27;,\n",
       "                                                                      &#x27;clin_size_long_diam_mm&#x27;,\n",
       "                                                                      &#x27;tbp_lv_A&#x27;,\n",
       "                                                                      &#x27;tbp_lv_Aext&#x27;,\n",
       "                                                                      &#x27;tbp_lv_B&#x27;,\n",
       "                                                                      &#x27;tbp_lv_Bext&#x27;,\n",
       "                                                                      &#x27;tbp_lv_C&#x27;,\n",
       "                                                                      &#x27;tbp_lv_Cext&#x27;,\n",
       "                                                                      &#x27;tbp_l...\n",
       "                                                             importance_type=None,\n",
       "                                                             interaction_constraints=None,\n",
       "                                                             lambda=8.879624125465703,\n",
       "                                                             learning_rate=0.08501257473292347,\n",
       "                                                             max_bin=None,\n",
       "                                                             max_cat_threshold=None,\n",
       "                                                             max_cat_to_onehot=None,\n",
       "                                                             max_delta_step=None,\n",
       "                                                             max_depth=6,\n",
       "                                                             max_leaves=None,\n",
       "                                                             min_child_weight=None,\n",
       "                                                             missing=nan,\n",
       "                                                             monotone_constraints=None,\n",
       "                                                             multi_strategy=None,\n",
       "                                                             n_estimators=None,\n",
       "                                                             n_jobs=None, ...))]))],\n",
       "                 voting=&#x27;soft&#x27;)</pre></div></div></div><div class=\"sk-parallel\"><div class=\"sk-parallel-item\"><div class=\"sk-item\"><div class=\"sk-label-container\"><div class=\"sk-label sk-toggleable\"><label>lgb</label></div></div><div class=\"sk-serial\"><div class=\"sk-item\"><div class=\"sk-serial\"><div class=\"sk-item\"><div class=\"sk-estimator sk-toggleable\"><input class=\"sk-toggleable__control sk-hidden--visually\" id=\"sk-estimator-id-2\" type=\"checkbox\" ><label for=\"sk-estimator-id-2\" class=\"sk-toggleable__label sk-toggleable__label-arrow\">RandomOverSampler</label><div class=\"sk-toggleable__content\"><pre>RandomOverSampler(random_state=42, sampling_strategy=0.003)</pre></div></div></div><div class=\"sk-item\"><div class=\"sk-estimator sk-toggleable\"><input class=\"sk-toggleable__control sk-hidden--visually\" id=\"sk-estimator-id-3\" type=\"checkbox\" ><label for=\"sk-estimator-id-3\" class=\"sk-toggleable__label sk-toggleable__label-arrow\">RandomUnderSampler</label><div class=\"sk-toggleable__content\"><pre>RandomUnderSampler(random_state=42, sampling_strategy=0.01)</pre></div></div></div><div class=\"sk-item\"><div class=\"sk-estimator sk-toggleable\"><input class=\"sk-toggleable__control sk-hidden--visually\" id=\"sk-estimator-id-4\" type=\"checkbox\" ><label for=\"sk-estimator-id-4\" class=\"sk-toggleable__label sk-toggleable__label-arrow\">SelectColumns</label><div class=\"sk-toggleable__content\"><pre>SelectColumns(columns=[&#x27;age_approx&#x27;, &#x27;clin_size_long_diam_mm&#x27;, &#x27;tbp_lv_A&#x27;,\n",
       "                       &#x27;tbp_lv_Aext&#x27;, &#x27;tbp_lv_B&#x27;, &#x27;tbp_lv_Bext&#x27;, &#x27;tbp_lv_C&#x27;,\n",
       "                       &#x27;tbp_lv_Cext&#x27;, &#x27;tbp_lv_H&#x27;, &#x27;tbp_lv_Hext&#x27;, &#x27;tbp_lv_L&#x27;,\n",
       "                       &#x27;tbp_lv_Lext&#x27;, &#x27;tbp_lv_areaMM2&#x27;,\n",
       "                       &#x27;tbp_lv_area_perim_ratio&#x27;, &#x27;tbp_lv_color_std_mean&#x27;,\n",
       "                       &#x27;tbp_lv_deltaA&#x27;, &#x27;tbp_lv_deltaB&#x27;, &#x27;tbp_lv_deltaL&#x27;,\n",
       "                       &#x27;tbp_lv_deltaLB&#x27;, &#x27;tbp_lv_deltaLBnorm&#x27;,\n",
       "                       &#x27;tbp_lv_eccentricity&#x27;, &#x27;tbp_lv_minorAxisMM&#x27;,\n",
       "                       &#x27;tbp_lv_nevi_confidence&#x27;, &#x27;tbp_lv_norm_border&#x27;,\n",
       "                       &#x27;tbp_lv_norm_color&#x27;, &#x27;tbp_lv_perimeterMM&#x27;,\n",
       "                       &#x27;tbp_lv_radial_color_std_max&#x27;, &#x27;tbp_lv_stdL&#x27;,\n",
       "                       &#x27;tbp_lv_stdLExt&#x27;, &#x27;tbp_lv_symm_2axis&#x27;, ...])</pre></div></div></div><div class=\"sk-item\"><div class=\"sk-estimator sk-toggleable\"><input class=\"sk-toggleable__control sk-hidden--visually\" id=\"sk-estimator-id-5\" type=\"checkbox\" ><label for=\"sk-estimator-id-5\" class=\"sk-toggleable__label sk-toggleable__label-arrow\">LGBMClassifier</label><div class=\"sk-toggleable__content\"><pre>LGBMClassifier(bagging_fraction=0.7738954452473223, bagging_freq=4,\n",
       "               colsample_bynode=0.4025961355653304,\n",
       "               colsample_bytree=0.8329551585827726,\n",
       "               lambda_l1=0.08758718919397321, lambda_l2=0.0039689175176025465,\n",
       "               learning_rate=0.03231007103195577, max_depth=4,\n",
       "               min_data_in_leaf=85, n_iter=200, num_leaves=103,\n",
       "               objective=&#x27;binary&#x27;, random_state=42,\n",
       "               scale_pos_weight=2.7984184778875543, verbosity=-1)</pre></div></div></div></div></div></div></div></div><div class=\"sk-parallel-item\"><div class=\"sk-item\"><div class=\"sk-label-container\"><div class=\"sk-label sk-toggleable\"><label>cb</label></div></div><div class=\"sk-serial\"><div class=\"sk-item\"><div class=\"sk-serial\"><div class=\"sk-item\"><div class=\"sk-estimator sk-toggleable\"><input class=\"sk-toggleable__control sk-hidden--visually\" id=\"sk-estimator-id-6\" type=\"checkbox\" ><label for=\"sk-estimator-id-6\" class=\"sk-toggleable__label sk-toggleable__label-arrow\">RandomOverSampler</label><div class=\"sk-toggleable__content\"><pre>RandomOverSampler(random_state=42, sampling_strategy=0.003)</pre></div></div></div><div class=\"sk-item\"><div class=\"sk-estimator sk-toggleable\"><input class=\"sk-toggleable__control sk-hidden--visually\" id=\"sk-estimator-id-7\" type=\"checkbox\" ><label for=\"sk-estimator-id-7\" class=\"sk-toggleable__label sk-toggleable__label-arrow\">RandomUnderSampler</label><div class=\"sk-toggleable__content\"><pre>RandomUnderSampler(random_state=42, sampling_strategy=0.01)</pre></div></div></div><div class=\"sk-item\"><div class=\"sk-estimator sk-toggleable\"><input class=\"sk-toggleable__control sk-hidden--visually\" id=\"sk-estimator-id-8\" type=\"checkbox\" ><label for=\"sk-estimator-id-8\" class=\"sk-toggleable__label sk-toggleable__label-arrow\">CatBoostClassifier</label><div class=\"sk-toggleable__content\"><pre>&lt;catboost.core.CatBoostClassifier object at 0x7c68be8deec0&gt;</pre></div></div></div></div></div></div></div></div><div class=\"sk-parallel-item\"><div class=\"sk-item\"><div class=\"sk-label-container\"><div class=\"sk-label sk-toggleable\"><label>xgb</label></div></div><div class=\"sk-serial\"><div class=\"sk-item\"><div class=\"sk-serial\"><div class=\"sk-item\"><div class=\"sk-estimator sk-toggleable\"><input class=\"sk-toggleable__control sk-hidden--visually\" id=\"sk-estimator-id-9\" type=\"checkbox\" ><label for=\"sk-estimator-id-9\" class=\"sk-toggleable__label sk-toggleable__label-arrow\">RandomOverSampler</label><div class=\"sk-toggleable__content\"><pre>RandomOverSampler(random_state=42, sampling_strategy=0.003)</pre></div></div></div><div class=\"sk-item\"><div class=\"sk-estimator sk-toggleable\"><input class=\"sk-toggleable__control sk-hidden--visually\" id=\"sk-estimator-id-10\" type=\"checkbox\" ><label for=\"sk-estimator-id-10\" class=\"sk-toggleable__label sk-toggleable__label-arrow\">RandomUnderSampler</label><div class=\"sk-toggleable__content\"><pre>RandomUnderSampler(random_state=42, sampling_strategy=0.01)</pre></div></div></div><div class=\"sk-item\"><div class=\"sk-estimator sk-toggleable\"><input class=\"sk-toggleable__control sk-hidden--visually\" id=\"sk-estimator-id-11\" type=\"checkbox\" ><label for=\"sk-estimator-id-11\" class=\"sk-toggleable__label sk-toggleable__label-arrow\">XGBClassifier</label><div class=\"sk-toggleable__content\"><pre>XGBClassifier(alpha=0.6779926606782505, base_score=None, booster=None,\n",
       "              callbacks=None, colsample_bylevel=0.5476090898823716,\n",
       "              colsample_bynode=0.9928601203635129,\n",
       "              colsample_bytree=0.8437772277074493, device=None,\n",
       "              early_stopping_rounds=None, enable_categorical=True,\n",
       "              eval_metric=None, feature_types=None, gamma=None,\n",
       "              grow_policy=None, importance_type=None,\n",
       "              interaction_constraints=None, lambda=8.879624125465703,\n",
       "              learning_rate=0.08501257473292347, max_bin=None,\n",
       "              max_cat_threshold=None, max_cat_to_onehot=None,\n",
       "              max_delta_step=None, max_depth=6, max_leaves=None,\n",
       "              min_child_weight=None, missing=nan, monotone_constraints=None,\n",
       "              multi_strategy=None, n_estimators=None, n_jobs=None, ...)</pre></div></div></div></div></div></div></div></div></div></div></div></div>"
      ],
      "text/plain": [
       "VotingClassifier(estimators=[('lgb',\n",
       "                              Pipeline(steps=[('sampler_1',\n",
       "                                               RandomOverSampler(random_state=42,\n",
       "                                                                 sampling_strategy=0.003)),\n",
       "                                              ('sampler_2',\n",
       "                                               RandomUnderSampler(random_state=42,\n",
       "                                                                  sampling_strategy=0.01)),\n",
       "                                              ('filter',\n",
       "                                               SelectColumns(columns=['age_approx',\n",
       "                                                                      'clin_size_long_diam_mm',\n",
       "                                                                      'tbp_lv_A',\n",
       "                                                                      'tbp_lv_Aext',\n",
       "                                                                      'tbp_lv_B',\n",
       "                                                                      'tbp_lv_Bext',\n",
       "                                                                      'tbp_lv_C',\n",
       "                                                                      'tbp_lv_Cext',\n",
       "                                                                      'tbp_l...\n",
       "                                                             importance_type=None,\n",
       "                                                             interaction_constraints=None,\n",
       "                                                             lambda=8.879624125465703,\n",
       "                                                             learning_rate=0.08501257473292347,\n",
       "                                                             max_bin=None,\n",
       "                                                             max_cat_threshold=None,\n",
       "                                                             max_cat_to_onehot=None,\n",
       "                                                             max_delta_step=None,\n",
       "                                                             max_depth=6,\n",
       "                                                             max_leaves=None,\n",
       "                                                             min_child_weight=None,\n",
       "                                                             missing=nan,\n",
       "                                                             monotone_constraints=None,\n",
       "                                                             multi_strategy=None,\n",
       "                                                             n_estimators=None,\n",
       "                                                             n_jobs=None, ...))]))],\n",
       "                 voting='soft')"
      ]
     },
     "execution_count": 23,
     "metadata": {},
     "output_type": "execute_result"
    }
   ],
   "source": [
    "X, y = df_train[feature_cols], df_train[target_col]\n",
    "\n",
    "estimator.fit(X, y)"
   ]
  },
  {
   "cell_type": "code",
   "execution_count": 24,
   "id": "fd7a9a0b",
   "metadata": {
    "execution": {
     "iopub.execute_input": "2024-08-31T20:50:59.757561Z",
     "iopub.status.busy": "2024-08-31T20:50:59.757257Z",
     "iopub.status.idle": "2024-08-31T20:50:59.761076Z",
     "shell.execute_reply": "2024-08-31T20:50:59.760326Z"
    },
    "papermill": {
     "duration": 0.018664,
     "end_time": "2024-08-31T20:50:59.762963",
     "exception": false,
     "start_time": "2024-08-31T20:50:59.744299",
     "status": "completed"
    },
    "tags": []
   },
   "outputs": [],
   "source": [
    "#original cell before mixing\n",
    "\n",
    "# df_subm['target'] = estimator.predict_proba(df_test[feature_cols])[:, 1]\n",
    "\n",
    "#df_subm.to_csv('submission.csv')#\n",
    "#df_subm.head()"
   ]
  },
  {
   "cell_type": "code",
   "execution_count": 25,
   "id": "f0dc497d",
   "metadata": {
    "execution": {
     "iopub.execute_input": "2024-08-31T20:50:59.790738Z",
     "iopub.status.busy": "2024-08-31T20:50:59.790450Z",
     "iopub.status.idle": "2024-08-31T20:50:59.883220Z",
     "shell.execute_reply": "2024-08-31T20:50:59.882300Z"
    },
    "papermill": {
     "duration": 0.109044,
     "end_time": "2024-08-31T20:50:59.885118",
     "exception": false,
     "start_time": "2024-08-31T20:50:59.776074",
     "status": "completed"
    },
    "tags": []
   },
   "outputs": [
    {
     "data": {
      "text/html": [
       "<div>\n",
       "<style scoped>\n",
       "    .dataframe tbody tr th:only-of-type {\n",
       "        vertical-align: middle;\n",
       "    }\n",
       "\n",
       "    .dataframe tbody tr th {\n",
       "        vertical-align: top;\n",
       "    }\n",
       "\n",
       "    .dataframe thead th {\n",
       "        text-align: right;\n",
       "    }\n",
       "</style>\n",
       "<table border=\"1\" class=\"dataframe\">\n",
       "  <thead>\n",
       "    <tr style=\"text-align: right;\">\n",
       "      <th></th>\n",
       "      <th>target</th>\n",
       "      <th>preds</th>\n",
       "    </tr>\n",
       "    <tr>\n",
       "      <th>isic_id</th>\n",
       "      <th></th>\n",
       "      <th></th>\n",
       "    </tr>\n",
       "  </thead>\n",
       "  <tbody>\n",
       "    <tr>\n",
       "      <th>ISIC_0015657</th>\n",
       "      <td>0.3</td>\n",
       "      <td>0.299788</td>\n",
       "    </tr>\n",
       "    <tr>\n",
       "      <th>ISIC_0015729</th>\n",
       "      <td>0.3</td>\n",
       "      <td>0.259529</td>\n",
       "    </tr>\n",
       "    <tr>\n",
       "      <th>ISIC_0015740</th>\n",
       "      <td>0.3</td>\n",
       "      <td>0.268690</td>\n",
       "    </tr>\n",
       "  </tbody>\n",
       "</table>\n",
       "</div>"
      ],
      "text/plain": [
       "              target     preds\n",
       "isic_id                       \n",
       "ISIC_0015657     0.3  0.299788\n",
       "ISIC_0015729     0.3  0.259529\n",
       "ISIC_0015740     0.3  0.268690"
      ]
     },
     "execution_count": 25,
     "metadata": {},
     "output_type": "execute_result"
    }
   ],
   "source": [
    "### modified\n",
    "df_subm['preds'] = estimator.predict_proba(df_test[feature_cols])[:, 1]\n",
    "\n",
    "#df_subm.to_csv('predictions_of_2024_dataset.csv') # todo\n",
    "df_subm.head()"
   ]
  },
  {
   "cell_type": "markdown",
   "id": "4104b387",
   "metadata": {
    "papermill": {
     "duration": 0.012166,
     "end_time": "2024-08-31T20:50:59.910275",
     "exception": false,
     "start_time": "2024-08-31T20:50:59.898109",
     "status": "completed"
    },
    "tags": []
   },
   "source": [
    "# Mix and submission"
   ]
  },
  {
   "cell_type": "code",
   "execution_count": 26,
   "id": "5b9a8693",
   "metadata": {
    "execution": {
     "iopub.execute_input": "2024-08-31T20:50:59.938668Z",
     "iopub.status.busy": "2024-08-31T20:50:59.938388Z",
     "iopub.status.idle": "2024-08-31T20:50:59.957291Z",
     "shell.execute_reply": "2024-08-31T20:50:59.956281Z"
    },
    "papermill": {
     "duration": 0.037599,
     "end_time": "2024-08-31T20:50:59.960257",
     "exception": false,
     "start_time": "2024-08-31T20:50:59.922658",
     "status": "completed"
    },
    "tags": []
   },
   "outputs": [],
   "source": [
    "merged_test = pd.merge(subm_data, df_subm,\n",
    "                       on = 'isic_id')\n",
    "\n",
    "merged_test[\"preds\"] = predict_formula(res.x, merged_test[\"preds_x\"],\n",
    "                        merged_test[\"preds_y\"], formula=formula_name)\n",
    "\n",
    "hybrid_test = merged_test[['isic_id', 'target_y', 'preds']].copy()\n",
    "hybrid_test.rename(columns={'target_y': 'target'}, inplace=True)\n",
    "\n",
    "\n",
    "# normalization\n",
    "hybrid_test['preds'] = (hybrid_test['preds'] - hybrid_test['preds'].min()) / (hybrid_test['preds'].max() - hybrid_test['preds'].min())\n",
    "\n",
    "submission_df = hybrid_test.drop(\"target\", axis = 1)\n",
    "\n",
    "submission_df.rename(columns={'preds': 'target'}, inplace=True)\n",
    "submission_df.head(3)\n",
    "submission_df.to_csv('submission.csv', index=False)"
   ]
  }
 ],
 "metadata": {
  "kaggle": {
   "accelerator": "nvidiaTeslaT4",
   "dataSources": [
    {
     "databundleVersionId": 9094797,
     "sourceId": 63056,
     "sourceType": "competition"
    },
    {
     "databundleVersionId": 9423954,
     "datasetId": 5586829,
     "sourceId": 9236460,
     "sourceType": "datasetVersion"
    },
    {
     "databundleVersionId": 9147050,
     "datasetId": 5406640,
     "sourceId": 8982084,
     "sourceType": "datasetVersion"
    },
    {
     "databundleVersionId": 9157383,
     "datasetId": 5415918,
     "sourceId": 8991790,
     "sourceType": "datasetVersion"
    },
    {
     "databundleVersionId": 9483042,
     "datasetId": 5598842,
     "sourceId": 9290488,
     "sourceType": "datasetVersion"
    },
    {
     "databundleVersionId": 9436578,
     "datasetId": 5594528,
     "sourceId": 9247911,
     "sourceType": "datasetVersion"
    },
    {
     "sourceId": 186147615,
     "sourceType": "kernelVersion"
    },
    {
     "sourceId": 186149019,
     "sourceType": "kernelVersion"
    },
    {
     "sourceId": 187730674,
     "sourceType": "kernelVersion"
    },
    {
     "sourceId": 188543089,
     "sourceType": "kernelVersion"
    },
    {
     "sourceId": 188543756,
     "sourceType": "kernelVersion"
    },
    {
     "sourceId": 188602899,
     "sourceType": "kernelVersion"
    },
    {
     "sourceId": 188603204,
     "sourceType": "kernelVersion"
    },
    {
     "sourceId": 188603902,
     "sourceType": "kernelVersion"
    },
    {
     "sourceId": 190801726,
     "sourceType": "kernelVersion"
    },
    {
     "sourceId": 190815443,
     "sourceType": "kernelVersion"
    },
    {
     "sourceId": 190817588,
     "sourceType": "kernelVersion"
    }
   ],
   "dockerImageVersionId": 30747,
   "isGpuEnabled": true,
   "isInternetEnabled": false,
   "language": "python",
   "sourceType": "notebook"
  },
  "kernelspec": {
   "display_name": "Python 3",
   "language": "python",
   "name": "python3"
  },
  "language_info": {
   "codemirror_mode": {
    "name": "ipython",
    "version": 3
   },
   "file_extension": ".py",
   "mimetype": "text/x-python",
   "name": "python",
   "nbconvert_exporter": "python",
   "pygments_lexer": "ipython3",
   "version": "3.10.13"
  },
  "papermill": {
   "default_parameters": {},
   "duration": 377.18202,
   "end_time": "2024-08-31T20:51:01.700543",
   "environment_variables": {},
   "exception": null,
   "input_path": "__notebook__.ipynb",
   "output_path": "__notebook__.ipynb",
   "parameters": {},
   "start_time": "2024-08-31T20:44:44.518523",
   "version": "2.5.0"
  }
 },
 "nbformat": 4,
 "nbformat_minor": 5
}
